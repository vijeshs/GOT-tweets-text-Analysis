{
 "cells": [
  {
   "cell_type": "markdown",
   "metadata": {},
   "source": [
    " # Game of Thrones 13th April-30th May"
   ]
  },
  {
   "cell_type": "markdown",
   "metadata": {},
   "source": [
    "##### TweetScraper  is built on Scrapy without using Twitter's APIs. The crawled data is not as clean as the one obtained by the APIs"
   ]
  },
  {
   "cell_type": "markdown",
   "metadata": {},
   "source": [
    "#### In the root folder i ran (scrapy crawl TweetScraper -a query=\"\"#GameOfThrones\" lang:en until:2019-05-30 since:2019-04-13\")\n",
    "\n",
    "#### where query is a list of keywords that we  want to search in Twitter Search. TweetScraper will crawl the search results of the query and save the tweet content and user information\n",
    "\n",
    "#### we are scraping only the english texts "
   ]
  },
  {
   "cell_type": "code",
   "execution_count": 1,
   "metadata": {
    "ExecuteTime": {
     "end_time": "2019-12-06T16:50:28.347486Z",
     "start_time": "2019-12-06T16:50:05.923980Z"
    }
   },
   "outputs": [],
   "source": [
    "import pandas as pd\n",
    "import numpy as np \n",
    "import string\n",
    "import re\n",
    "\n",
    "#nltk\n",
    "\n",
    "import nltk\n",
    "from nltk.corpus import stopwords\n",
    "from nltk import PorterStemmer as stemmer\n",
    "from nltk.tokenize import word_tokenize\n",
    "from nltk import download, FreqDist, WordNetLemmatizer\n",
    "from nltk.tokenize.regexp import wordpunct_tokenize\n",
    "from nltk.stem import WordNetLemmatizer, SnowballStemmer\n",
    "from nltk.stem.porter import *\n",
    "\n",
    "from collections import Counter \n",
    "from datetime import datetime\n",
    "from vaderSentiment.vaderSentiment import SentimentIntensityAnalyzer \n",
    "\n",
    "#gensim\n",
    "\n",
    "import gensim\n",
    "from gensim.utils import simple_preprocess\n",
    "from gensim.parsing.preprocessing import STOPWORDS\n",
    "\n",
    "#sklearn\n",
    "\n",
    "from sklearn.feature_extraction.text import CountVectorizer\n",
    "from sklearn.preprocessing import normalize\n",
    "from sklearn.feature_extraction.text import TfidfVectorizer\n",
    "from sklearn.cluster import KMeans\n",
    "from sklearn.metrics import adjusted_rand_score\n",
    "\n",
    "#visualization\n",
    "\n",
    "from matplotlib import rcParams\n",
    "import matplotlib.pyplot as plt\n",
    "import seaborn as sns\n",
    "\n",
    "lemmatizer = WordNetLemmatizer() \n",
    "ps=stemmer()"
   ]
  },
  {
   "cell_type": "code",
   "execution_count": 2,
   "metadata": {
    "ExecuteTime": {
     "end_time": "2019-12-06T16:50:28.362676Z",
     "start_time": "2019-12-06T16:50:28.347486Z"
    }
   },
   "outputs": [],
   "source": [
    "pd.set_option('display.max_colwidth', -1)\n",
    "pd.set_option('display.max_columns', None)  "
   ]
  },
  {
   "cell_type": "code",
   "execution_count": 3,
   "metadata": {
    "ExecuteTime": {
     "end_time": "2019-12-06T16:50:28.436121Z",
     "start_time": "2019-12-06T16:50:28.366669Z"
    }
   },
   "outputs": [
    {
     "name": "stdout",
     "output_type": "stream",
     "text": [
      "C:\\Users\\VIJESH\\Desktop\n"
     ]
    }
   ],
   "source": [
    "%cd Desktop"
   ]
  },
  {
   "cell_type": "markdown",
   "metadata": {},
   "source": [
    "#### i manually combined all the file of my scraped using the comment \"df.append(pd.read_table(file))\", so i have all the data in a single cell\n"
   ]
  },
  {
   "cell_type": "code",
   "execution_count": 4,
   "metadata": {
    "ExecuteTime": {
     "end_time": "2019-12-06T16:50:29.008500Z",
     "start_time": "2019-12-06T16:50:28.438116Z"
    }
   },
   "outputs": [],
   "source": [
    "df=pd.read_csv(\"Tweet.csv\")"
   ]
  },
  {
   "cell_type": "code",
   "execution_count": 5,
   "metadata": {
    "ExecuteTime": {
     "end_time": "2019-12-06T16:50:29.044099Z",
     "start_time": "2019-12-06T16:50:29.008688Z"
    }
   },
   "outputs": [
    {
     "data": {
      "text/html": [
       "<div>\n",
       "<style scoped>\n",
       "    .dataframe tbody tr th:only-of-type {\n",
       "        vertical-align: middle;\n",
       "    }\n",
       "\n",
       "    .dataframe tbody tr th {\n",
       "        vertical-align: top;\n",
       "    }\n",
       "\n",
       "    .dataframe thead th {\n",
       "        text-align: right;\n",
       "    }\n",
       "</style>\n",
       "<table border=\"1\" class=\"dataframe\">\n",
       "  <thead>\n",
       "    <tr style=\"text-align: right;\">\n",
       "      <th></th>\n",
       "      <th>tweet</th>\n",
       "    </tr>\n",
       "  </thead>\n",
       "  <tbody>\n",
       "    <tr>\n",
       "      <th>0</th>\n",
       "      <td>Empty DataFrame\\nColumns: [{\"usernameTweet\": \"Ryanair\", \"ID\": \"1131497916663783424\", \"text\": \"A special Game of Thrones #ThrowbackThursday  for this week: when we welcomed Jon Snow on a flight from The North (Belfast) to London last year  \\n\\nSummer is coming on  http:// ryanair.com      #GameOfThrones  #ForTheThrone  #GOT pic.twitter.com/wFGWDntgnF\", \"url\": \"/Ryanair/status/1131497916663783424\", \"nbr_retweet\": 5, \"nbr_favorite\": 60, \"nbr_reply\": 2, \"datetime\": \"2019-05-23 15:21:40\", \"is_reply\": false, \"is_retweet\": false, \"user_id\": \"1542862735\"}]\\nIndex: []</td>\n",
       "    </tr>\n",
       "    <tr>\n",
       "      <th>1</th>\n",
       "      <td>Empty DataFrame\\nColumns: [{\"usernameTweet\": \"sachintrivedig\", \"ID\": \"1131497948922040320\", \"text\": \"'Winds Of Winter' 'Not Finished,' 'Not Hidden Away For Years,' Author Confirms #windsofwinter  #GameofThrones   https://www. ibtimes.com/winds-winter-n ot-finished-not-hidden-away-years-author-confirms-2794275   …\", \"url\": \"/sachintrivedig/status/1131497948922040320\", \"nbr_retweet\": 0, \"nbr_favorite\": 0, \"nbr_reply\": 0, \"datetime\": \"2019-05-23 15:21:47\", \"has_media\": true, \"medias\": [\"https://t.co/3PFXzP8HBe\"], \"is_reply\": false, \"is_retweet\": false, \"user_id\": \"1356262172\"}]\\nIndex: []</td>\n",
       "    </tr>\n",
       "    <tr>\n",
       "      <th>2</th>\n",
       "      <td>Empty DataFrame\\nColumns: [{\"usernameTweet\": \"SherwinLLewis\", \"ID\": \"1131498045697384448\", \"text\": \"Out of everyone who ever did a thing in The Game of Thrones, Aegon Targaryen and his sister wives really did the utmost #GameOfThrones\", \"url\": \"/SherwinLLewis/status/1131498045697384448\", \"nbr_retweet\": 0, \"nbr_favorite\": 0, \"nbr_reply\": 0, \"datetime\": \"2019-05-23 15:22:10\", \"is_reply\": false, \"is_retweet\": false, \"user_id\": \"1260340831\"}]\\nIndex: []</td>\n",
       "    </tr>\n",
       "    <tr>\n",
       "      <th>3</th>\n",
       "      <td>Empty DataFrame\\nColumns: [{\"usernameTweet\": \"temperance8\", \"ID\": \"1131498066773762049\", \"text\": \"I am dayin  \\n#gameofthrones  \\n#JonSnow pic.twitter.com/ByotJV9dbp\", \"url\": \"/temperance8/status/1131498066773762049\", \"nbr_retweet\": 0, \"nbr_favorite\": 0, \"nbr_reply\": 0, \"datetime\": \"2019-05-23 15:22:15\", \"is_reply\": false, \"is_retweet\": false, \"user_id\": \"277148437\"}]\\nIndex: []</td>\n",
       "    </tr>\n",
       "    <tr>\n",
       "      <th>4</th>\n",
       "      <td>Empty DataFrame\\nColumns: [{\"usernameTweet\": \"freefolkbot\", \"ID\": \"1131498080531046400\", \"text\": \"We won’t get season 8 re-written, but maybe we can save Star Wars. #GoT  #GameofThrones   https:// redd.it/bry14g   pic.twitter.com/aOAH5v61Ei\", \"url\": \"/freefolkbot/status/1131498080531046400\", \"nbr_retweet\": 0, \"nbr_favorite\": 0, \"nbr_reply\": 0, \"datetime\": \"2019-05-23 15:22:19\", \"is_reply\": false, \"is_retweet\": false, \"user_id\": \"999812247294791680\"}]\\nIndex: []</td>\n",
       "    </tr>\n",
       "  </tbody>\n",
       "</table>\n",
       "</div>"
      ],
      "text/plain": [
       "                                                                                                                                                                                                                                                                                                                                                                                                                                                                                                                                                                                                              tweet\n",
       "0  Empty DataFrame\\nColumns: [{\"usernameTweet\": \"Ryanair\", \"ID\": \"1131497916663783424\", \"text\": \"A special Game of Thrones #ThrowbackThursday  for this week: when we welcomed Jon Snow on a flight from The North (Belfast) to London last year  \\n\\nSummer is coming on  http:// ryanair.com      #GameOfThrones  #ForTheThrone  #GOT pic.twitter.com/wFGWDntgnF\", \"url\": \"/Ryanair/status/1131497916663783424\", \"nbr_retweet\": 5, \"nbr_favorite\": 60, \"nbr_reply\": 2, \"datetime\": \"2019-05-23 15:21:40\", \"is_reply\": false, \"is_retweet\": false, \"user_id\": \"1542862735\"}]\\nIndex: []                           \n",
       "1  Empty DataFrame\\nColumns: [{\"usernameTweet\": \"sachintrivedig\", \"ID\": \"1131497948922040320\", \"text\": \"'Winds Of Winter' 'Not Finished,' 'Not Hidden Away For Years,' Author Confirms #windsofwinter  #GameofThrones   https://www. ibtimes.com/winds-winter-n ot-finished-not-hidden-away-years-author-confirms-2794275   …\", \"url\": \"/sachintrivedig/status/1131497948922040320\", \"nbr_retweet\": 0, \"nbr_favorite\": 0, \"nbr_reply\": 0, \"datetime\": \"2019-05-23 15:21:47\", \"has_media\": true, \"medias\": [\"https://t.co/3PFXzP8HBe\"], \"is_reply\": false, \"is_retweet\": false, \"user_id\": \"1356262172\"}]\\nIndex: []\n",
       "2  Empty DataFrame\\nColumns: [{\"usernameTweet\": \"SherwinLLewis\", \"ID\": \"1131498045697384448\", \"text\": \"Out of everyone who ever did a thing in The Game of Thrones, Aegon Targaryen and his sister wives really did the utmost #GameOfThrones\", \"url\": \"/SherwinLLewis/status/1131498045697384448\", \"nbr_retweet\": 0, \"nbr_favorite\": 0, \"nbr_reply\": 0, \"datetime\": \"2019-05-23 15:22:10\", \"is_reply\": false, \"is_retweet\": false, \"user_id\": \"1260340831\"}]\\nIndex: []                                                                                                                                           \n",
       "3  Empty DataFrame\\nColumns: [{\"usernameTweet\": \"temperance8\", \"ID\": \"1131498066773762049\", \"text\": \"I am dayin  \\n#gameofthrones  \\n#JonSnow pic.twitter.com/ByotJV9dbp\", \"url\": \"/temperance8/status/1131498066773762049\", \"nbr_retweet\": 0, \"nbr_favorite\": 0, \"nbr_reply\": 0, \"datetime\": \"2019-05-23 15:22:15\", \"is_reply\": false, \"is_retweet\": false, \"user_id\": \"277148437\"}]\\nIndex: []                                                                                                                                                                                                                   \n",
       "4  Empty DataFrame\\nColumns: [{\"usernameTweet\": \"freefolkbot\", \"ID\": \"1131498080531046400\", \"text\": \"We won’t get season 8 re-written, but maybe we can save Star Wars. #GoT  #GameofThrones   https:// redd.it/bry14g   pic.twitter.com/aOAH5v61Ei\", \"url\": \"/freefolkbot/status/1131498080531046400\", \"nbr_retweet\": 0, \"nbr_favorite\": 0, \"nbr_reply\": 0, \"datetime\": \"2019-05-23 15:22:19\", \"is_reply\": false, \"is_retweet\": false, \"user_id\": \"999812247294791680\"}]\\nIndex: []                                                                                                                               "
      ]
     },
     "execution_count": 5,
     "metadata": {},
     "output_type": "execute_result"
    }
   ],
   "source": [
    "df.head()"
   ]
  },
  {
   "cell_type": "code",
   "execution_count": 6,
   "metadata": {
    "ExecuteTime": {
     "end_time": "2019-12-06T16:50:29.142929Z",
     "start_time": "2019-12-06T16:50:29.045096Z"
    }
   },
   "outputs": [],
   "source": [
    "\n",
    "user_name=[]\n",
    "text=[]\n",
    "re_tweet=[]\n",
    "fav=[]\n",
    "reply=[]\n",
    "time=[]\n",
    "def clean(row):\n",
    "    tweet=row['tweet']\n",
    "    a=tweet.split(\"Empty DataFrame\\nColumns:\") #removing unneccesary words\n",
    "    b=(a[1:])\n",
    "    c=' '.join(b)\n",
    "    b=c.split('\"ID\":')\n",
    "    \n",
    "    name=b[0].split(\":\")\n",
    "    \n",
    "    user_name.append(name[1]) #saving name in a list\n",
    "    \n",
    "    e=b[1].split('\"text\":')\n",
    "    texts=e[1].split('\"url\":')\n",
    "    \n",
    "    text.append(texts[0])      #saving tweets in different list\n",
    "    \n",
    "    f=texts[1].split('\"nbr_retweet\"')\n",
    "    retweet=f[1].split('\"nbr_favorite\"') \n",
    "    \n",
    "    re_tweet.append(retweet[0])         #saving retweets in a list\n",
    "    \n",
    "    favourite=retweet[1].split('\"nbr_reply\":')\n",
    "    \n",
    "    fav.append(favourite[0])             #saving favourite in a list\n",
    "    \n",
    "    rep=favourite[1].split(' \"datetime\":') \n",
    "    \n",
    "    reply.append(rep[0])                 #saving reply in a list\n",
    "    \n",
    "    date_time=rep[1].split(',')\n",
    "    \n",
    "    time.append(date_time[0])             #saving time in a list"
   ]
  },
  {
   "cell_type": "code",
   "execution_count": 7,
   "metadata": {
    "ExecuteTime": {
     "end_time": "2019-12-06T16:50:29.993925Z",
     "start_time": "2019-12-06T16:50:29.144925Z"
    }
   },
   "outputs": [
    {
     "data": {
      "text/plain": [
       "0        None\n",
       "1        None\n",
       "2        None\n",
       "3        None\n",
       "4        None\n",
       "         ... \n",
       "39234    None\n",
       "39235    None\n",
       "39236    None\n",
       "39237    None\n",
       "39238    None\n",
       "Length: 39239, dtype: object"
      ]
     },
     "execution_count": 7,
     "metadata": {},
     "output_type": "execute_result"
    }
   ],
   "source": [
    "df.apply(lambda row:clean(row),axis=1)\n"
   ]
  },
  {
   "cell_type": "code",
   "execution_count": 8,
   "metadata": {
    "ExecuteTime": {
     "end_time": "2019-12-06T16:50:30.003898Z",
     "start_time": "2019-12-06T16:50:29.996917Z"
    }
   },
   "outputs": [
    {
     "data": {
      "text/html": [
       "<div>\n",
       "<style scoped>\n",
       "    .dataframe tbody tr th:only-of-type {\n",
       "        vertical-align: middle;\n",
       "    }\n",
       "\n",
       "    .dataframe tbody tr th {\n",
       "        vertical-align: top;\n",
       "    }\n",
       "\n",
       "    .dataframe thead th {\n",
       "        text-align: right;\n",
       "    }\n",
       "</style>\n",
       "<table border=\"1\" class=\"dataframe\">\n",
       "  <thead>\n",
       "    <tr style=\"text-align: right;\">\n",
       "      <th></th>\n",
       "      <th>tweet</th>\n",
       "    </tr>\n",
       "  </thead>\n",
       "  <tbody>\n",
       "    <tr>\n",
       "      <th>0</th>\n",
       "      <td>Empty DataFrame\\nColumns: [{\"usernameTweet\": \"Ryanair\", \"ID\": \"1131497916663783424\", \"text\": \"A special Game of Thrones #ThrowbackThursday  for this week: when we welcomed Jon Snow on a flight from The North (Belfast) to London last year  \\n\\nSummer is coming on  http:// ryanair.com      #GameOfThrones  #ForTheThrone  #GOT pic.twitter.com/wFGWDntgnF\", \"url\": \"/Ryanair/status/1131497916663783424\", \"nbr_retweet\": 5, \"nbr_favorite\": 60, \"nbr_reply\": 2, \"datetime\": \"2019-05-23 15:21:40\", \"is_reply\": false, \"is_retweet\": false, \"user_id\": \"1542862735\"}]\\nIndex: []</td>\n",
       "    </tr>\n",
       "    <tr>\n",
       "      <th>1</th>\n",
       "      <td>Empty DataFrame\\nColumns: [{\"usernameTweet\": \"sachintrivedig\", \"ID\": \"1131497948922040320\", \"text\": \"'Winds Of Winter' 'Not Finished,' 'Not Hidden Away For Years,' Author Confirms #windsofwinter  #GameofThrones   https://www. ibtimes.com/winds-winter-n ot-finished-not-hidden-away-years-author-confirms-2794275   …\", \"url\": \"/sachintrivedig/status/1131497948922040320\", \"nbr_retweet\": 0, \"nbr_favorite\": 0, \"nbr_reply\": 0, \"datetime\": \"2019-05-23 15:21:47\", \"has_media\": true, \"medias\": [\"https://t.co/3PFXzP8HBe\"], \"is_reply\": false, \"is_retweet\": false, \"user_id\": \"1356262172\"}]\\nIndex: []</td>\n",
       "    </tr>\n",
       "    <tr>\n",
       "      <th>2</th>\n",
       "      <td>Empty DataFrame\\nColumns: [{\"usernameTweet\": \"SherwinLLewis\", \"ID\": \"1131498045697384448\", \"text\": \"Out of everyone who ever did a thing in The Game of Thrones, Aegon Targaryen and his sister wives really did the utmost #GameOfThrones\", \"url\": \"/SherwinLLewis/status/1131498045697384448\", \"nbr_retweet\": 0, \"nbr_favorite\": 0, \"nbr_reply\": 0, \"datetime\": \"2019-05-23 15:22:10\", \"is_reply\": false, \"is_retweet\": false, \"user_id\": \"1260340831\"}]\\nIndex: []</td>\n",
       "    </tr>\n",
       "    <tr>\n",
       "      <th>3</th>\n",
       "      <td>Empty DataFrame\\nColumns: [{\"usernameTweet\": \"temperance8\", \"ID\": \"1131498066773762049\", \"text\": \"I am dayin  \\n#gameofthrones  \\n#JonSnow pic.twitter.com/ByotJV9dbp\", \"url\": \"/temperance8/status/1131498066773762049\", \"nbr_retweet\": 0, \"nbr_favorite\": 0, \"nbr_reply\": 0, \"datetime\": \"2019-05-23 15:22:15\", \"is_reply\": false, \"is_retweet\": false, \"user_id\": \"277148437\"}]\\nIndex: []</td>\n",
       "    </tr>\n",
       "    <tr>\n",
       "      <th>4</th>\n",
       "      <td>Empty DataFrame\\nColumns: [{\"usernameTweet\": \"freefolkbot\", \"ID\": \"1131498080531046400\", \"text\": \"We won’t get season 8 re-written, but maybe we can save Star Wars. #GoT  #GameofThrones   https:// redd.it/bry14g   pic.twitter.com/aOAH5v61Ei\", \"url\": \"/freefolkbot/status/1131498080531046400\", \"nbr_retweet\": 0, \"nbr_favorite\": 0, \"nbr_reply\": 0, \"datetime\": \"2019-05-23 15:22:19\", \"is_reply\": false, \"is_retweet\": false, \"user_id\": \"999812247294791680\"}]\\nIndex: []</td>\n",
       "    </tr>\n",
       "  </tbody>\n",
       "</table>\n",
       "</div>"
      ],
      "text/plain": [
       "                                                                                                                                                                                                                                                                                                                                                                                                                                                                                                                                                                                                              tweet\n",
       "0  Empty DataFrame\\nColumns: [{\"usernameTweet\": \"Ryanair\", \"ID\": \"1131497916663783424\", \"text\": \"A special Game of Thrones #ThrowbackThursday  for this week: when we welcomed Jon Snow on a flight from The North (Belfast) to London last year  \\n\\nSummer is coming on  http:// ryanair.com      #GameOfThrones  #ForTheThrone  #GOT pic.twitter.com/wFGWDntgnF\", \"url\": \"/Ryanair/status/1131497916663783424\", \"nbr_retweet\": 5, \"nbr_favorite\": 60, \"nbr_reply\": 2, \"datetime\": \"2019-05-23 15:21:40\", \"is_reply\": false, \"is_retweet\": false, \"user_id\": \"1542862735\"}]\\nIndex: []                           \n",
       "1  Empty DataFrame\\nColumns: [{\"usernameTweet\": \"sachintrivedig\", \"ID\": \"1131497948922040320\", \"text\": \"'Winds Of Winter' 'Not Finished,' 'Not Hidden Away For Years,' Author Confirms #windsofwinter  #GameofThrones   https://www. ibtimes.com/winds-winter-n ot-finished-not-hidden-away-years-author-confirms-2794275   …\", \"url\": \"/sachintrivedig/status/1131497948922040320\", \"nbr_retweet\": 0, \"nbr_favorite\": 0, \"nbr_reply\": 0, \"datetime\": \"2019-05-23 15:21:47\", \"has_media\": true, \"medias\": [\"https://t.co/3PFXzP8HBe\"], \"is_reply\": false, \"is_retweet\": false, \"user_id\": \"1356262172\"}]\\nIndex: []\n",
       "2  Empty DataFrame\\nColumns: [{\"usernameTweet\": \"SherwinLLewis\", \"ID\": \"1131498045697384448\", \"text\": \"Out of everyone who ever did a thing in The Game of Thrones, Aegon Targaryen and his sister wives really did the utmost #GameOfThrones\", \"url\": \"/SherwinLLewis/status/1131498045697384448\", \"nbr_retweet\": 0, \"nbr_favorite\": 0, \"nbr_reply\": 0, \"datetime\": \"2019-05-23 15:22:10\", \"is_reply\": false, \"is_retweet\": false, \"user_id\": \"1260340831\"}]\\nIndex: []                                                                                                                                           \n",
       "3  Empty DataFrame\\nColumns: [{\"usernameTweet\": \"temperance8\", \"ID\": \"1131498066773762049\", \"text\": \"I am dayin  \\n#gameofthrones  \\n#JonSnow pic.twitter.com/ByotJV9dbp\", \"url\": \"/temperance8/status/1131498066773762049\", \"nbr_retweet\": 0, \"nbr_favorite\": 0, \"nbr_reply\": 0, \"datetime\": \"2019-05-23 15:22:15\", \"is_reply\": false, \"is_retweet\": false, \"user_id\": \"277148437\"}]\\nIndex: []                                                                                                                                                                                                                   \n",
       "4  Empty DataFrame\\nColumns: [{\"usernameTweet\": \"freefolkbot\", \"ID\": \"1131498080531046400\", \"text\": \"We won’t get season 8 re-written, but maybe we can save Star Wars. #GoT  #GameofThrones   https:// redd.it/bry14g   pic.twitter.com/aOAH5v61Ei\", \"url\": \"/freefolkbot/status/1131498080531046400\", \"nbr_retweet\": 0, \"nbr_favorite\": 0, \"nbr_reply\": 0, \"datetime\": \"2019-05-23 15:22:19\", \"is_reply\": false, \"is_retweet\": false, \"user_id\": \"999812247294791680\"}]\\nIndex: []                                                                                                                               "
      ]
     },
     "execution_count": 8,
     "metadata": {},
     "output_type": "execute_result"
    }
   ],
   "source": [
    "df.head()"
   ]
  },
  {
   "cell_type": "code",
   "execution_count": 9,
   "metadata": {
    "ExecuteTime": {
     "end_time": "2019-12-06T16:50:30.154975Z",
     "start_time": "2019-12-06T16:50:30.005893Z"
    }
   },
   "outputs": [
    {
     "data": {
      "text/plain": [
       "39239"
      ]
     },
     "execution_count": 9,
     "metadata": {},
     "output_type": "execute_result"
    }
   ],
   "source": [
    "len(df)"
   ]
  },
  {
   "cell_type": "markdown",
   "metadata": {
    "ExecuteTime": {
     "end_time": "2019-12-05T12:54:09.958517Z",
     "start_time": "2019-12-05T12:54:09.950980Z"
    }
   },
   "source": [
    "## creating a dataframe"
   ]
  },
  {
   "cell_type": "code",
   "execution_count": 10,
   "metadata": {
    "ExecuteTime": {
     "end_time": "2019-12-06T16:50:30.228111Z",
     "start_time": "2019-12-06T16:50:30.156971Z"
    }
   },
   "outputs": [],
   "source": [
    "\n",
    "d={'user':user_name}  \n",
    "\n",
    "data=pd.DataFrame.from_dict(d)"
   ]
  },
  {
   "cell_type": "code",
   "execution_count": 11,
   "metadata": {
    "ExecuteTime": {
     "end_time": "2019-12-06T16:50:30.314077Z",
     "start_time": "2019-12-06T16:50:30.230073Z"
    }
   },
   "outputs": [],
   "source": [
    "data['text']=text\n",
    "data['re_tweet']=re_tweet\n",
    "data['fav']=fav\n",
    "data['reply']=reply\n",
    "data['time']=time"
   ]
  },
  {
   "cell_type": "code",
   "execution_count": 12,
   "metadata": {
    "ExecuteTime": {
     "end_time": "2019-12-06T16:50:30.509501Z",
     "start_time": "2019-12-06T16:50:30.315965Z"
    },
    "scrolled": true
   },
   "outputs": [
    {
     "data": {
      "text/html": [
       "<div>\n",
       "<style scoped>\n",
       "    .dataframe tbody tr th:only-of-type {\n",
       "        vertical-align: middle;\n",
       "    }\n",
       "\n",
       "    .dataframe tbody tr th {\n",
       "        vertical-align: top;\n",
       "    }\n",
       "\n",
       "    .dataframe thead th {\n",
       "        text-align: right;\n",
       "    }\n",
       "</style>\n",
       "<table border=\"1\" class=\"dataframe\">\n",
       "  <thead>\n",
       "    <tr style=\"text-align: right;\">\n",
       "      <th></th>\n",
       "      <th>user</th>\n",
       "      <th>text</th>\n",
       "      <th>re_tweet</th>\n",
       "      <th>fav</th>\n",
       "      <th>reply</th>\n",
       "      <th>time</th>\n",
       "    </tr>\n",
       "  </thead>\n",
       "  <tbody>\n",
       "    <tr>\n",
       "      <th>0</th>\n",
       "      <td>\"Ryanair\",</td>\n",
       "      <td>\"A special Game of Thrones #ThrowbackThursday  for this week: when we welcomed Jon Snow on a flight from The North (Belfast) to London last year  \\n\\nSummer is coming on  http:// ryanair.com      #GameOfThrones  #ForTheThrone  #GOT pic.twitter.com/wFGWDntgnF\",</td>\n",
       "      <td>: 5,</td>\n",
       "      <td>: 60,</td>\n",
       "      <td>2,</td>\n",
       "      <td>\"2019-05-23 15:21:40\"</td>\n",
       "    </tr>\n",
       "    <tr>\n",
       "      <th>1</th>\n",
       "      <td>\"sachintrivedig\",</td>\n",
       "      <td>\"'Winds Of Winter' 'Not Finished,' 'Not Hidden Away For Years,' Author Confirms #windsofwinter  #GameofThrones   https://www. ibtimes.com/winds-winter-n ot-finished-not-hidden-away-years-author-confirms-2794275   …\",</td>\n",
       "      <td>: 0,</td>\n",
       "      <td>: 0,</td>\n",
       "      <td>0,</td>\n",
       "      <td>\"2019-05-23 15:21:47\"</td>\n",
       "    </tr>\n",
       "    <tr>\n",
       "      <th>2</th>\n",
       "      <td>\"SherwinLLewis\",</td>\n",
       "      <td>\"Out of everyone who ever did a thing in The Game of Thrones, Aegon Targaryen and his sister wives really did the utmost #GameOfThrones\",</td>\n",
       "      <td>: 0,</td>\n",
       "      <td>: 0,</td>\n",
       "      <td>0,</td>\n",
       "      <td>\"2019-05-23 15:22:10\"</td>\n",
       "    </tr>\n",
       "    <tr>\n",
       "      <th>3</th>\n",
       "      <td>\"temperance8\",</td>\n",
       "      <td>\"I am dayin  \\n#gameofthrones  \\n#JonSnow pic.twitter.com/ByotJV9dbp\",</td>\n",
       "      <td>: 0,</td>\n",
       "      <td>: 0,</td>\n",
       "      <td>0,</td>\n",
       "      <td>\"2019-05-23 15:22:15\"</td>\n",
       "    </tr>\n",
       "    <tr>\n",
       "      <th>4</th>\n",
       "      <td>\"freefolkbot\",</td>\n",
       "      <td>\"We won’t get season 8 re-written, but maybe we can save Star Wars. #GoT  #GameofThrones   https:// redd.it/bry14g   pic.twitter.com/aOAH5v61Ei\",</td>\n",
       "      <td>: 0,</td>\n",
       "      <td>: 0,</td>\n",
       "      <td>0,</td>\n",
       "      <td>\"2019-05-23 15:22:19\"</td>\n",
       "    </tr>\n",
       "  </tbody>\n",
       "</table>\n",
       "</div>"
      ],
      "text/plain": [
       "                  user  \\\n",
       "0   \"Ryanair\",           \n",
       "1   \"sachintrivedig\",    \n",
       "2   \"SherwinLLewis\",     \n",
       "3   \"temperance8\",       \n",
       "4   \"freefolkbot\",       \n",
       "\n",
       "                                                                                                                                                                                                                                                                     text  \\\n",
       "0   \"A special Game of Thrones #ThrowbackThursday  for this week: when we welcomed Jon Snow on a flight from The North (Belfast) to London last year  \\n\\nSummer is coming on  http:// ryanair.com      #GameOfThrones  #ForTheThrone  #GOT pic.twitter.com/wFGWDntgnF\",    \n",
       "1   \"'Winds Of Winter' 'Not Finished,' 'Not Hidden Away For Years,' Author Confirms #windsofwinter  #GameofThrones   https://www. ibtimes.com/winds-winter-n ot-finished-not-hidden-away-years-author-confirms-2794275   …\",                                                \n",
       "2   \"Out of everyone who ever did a thing in The Game of Thrones, Aegon Targaryen and his sister wives really did the utmost #GameOfThrones\",                                                                                                                               \n",
       "3   \"I am dayin  \\n#gameofthrones  \\n#JonSnow pic.twitter.com/ByotJV9dbp\",                                                                                                                                                                                                  \n",
       "4   \"We won’t get season 8 re-written, but maybe we can save Star Wars. #GoT  #GameofThrones   https:// redd.it/bry14g   pic.twitter.com/aOAH5v61Ei\",                                                                                                                       \n",
       "\n",
       "  re_tweet     fav reply                    time  \n",
       "0  : 5,     : 60,    2,    \"2019-05-23 15:21:40\"  \n",
       "1  : 0,     : 0,     0,    \"2019-05-23 15:21:47\"  \n",
       "2  : 0,     : 0,     0,    \"2019-05-23 15:22:10\"  \n",
       "3  : 0,     : 0,     0,    \"2019-05-23 15:22:15\"  \n",
       "4  : 0,     : 0,     0,    \"2019-05-23 15:22:19\"  "
      ]
     },
     "execution_count": 12,
     "metadata": {},
     "output_type": "execute_result"
    }
   ],
   "source": [
    "data.head()"
   ]
  },
  {
   "cell_type": "markdown",
   "metadata": {},
   "source": [
    "## Function to remove all punctuation"
   ]
  },
  {
   "cell_type": "code",
   "execution_count": 13,
   "metadata": {
    "ExecuteTime": {
     "end_time": "2019-12-06T16:50:30.573327Z",
     "start_time": "2019-12-06T16:50:30.512494Z"
    }
   },
   "outputs": [],
   "source": [
    "def remove_punct(word):\n",
    "    punct=string.punctuation\n",
    "    word =[letter for letter in word if letter not in punct] \n",
    "    d=''.join(word)\n",
    "    return(d)\n",
    "    "
   ]
  },
  {
   "cell_type": "markdown",
   "metadata": {},
   "source": [
    "## Function to remove all punctuation and convert it into float"
   ]
  },
  {
   "cell_type": "code",
   "execution_count": 14,
   "metadata": {
    "ExecuteTime": {
     "end_time": "2019-12-06T16:50:30.642324Z",
     "start_time": "2019-12-06T16:50:30.575323Z"
    }
   },
   "outputs": [],
   "source": [
    "def remove_punct_int(word):\n",
    "    punct=string.punctuation\n",
    "    word=[letter for letter in word if letter not in punct] \n",
    "    number=''.join(word)\n",
    "    return(float(number))"
   ]
  },
  {
   "cell_type": "markdown",
   "metadata": {
    "ExecuteTime": {
     "end_time": "2019-12-05T12:56:56.693720Z",
     "start_time": "2019-12-05T12:56:56.682814Z"
    }
   },
   "source": [
    "## Function to split date from data-time"
   ]
  },
  {
   "cell_type": "code",
   "execution_count": 15,
   "metadata": {
    "ExecuteTime": {
     "end_time": "2019-12-06T16:50:30.720129Z",
     "start_time": "2019-12-06T16:50:30.643328Z"
    }
   },
   "outputs": [],
   "source": [
    "def date(date_time):\n",
    "    date=date_time.strip().split(\" \")\n",
    "    return(datetime.strptime(date[0],'\"%Y-%m-%d').date())"
   ]
  },
  {
   "cell_type": "markdown",
   "metadata": {},
   "source": [
    "## Function to split hour from data-time"
   ]
  },
  {
   "cell_type": "code",
   "execution_count": 16,
   "metadata": {
    "ExecuteTime": {
     "end_time": "2019-12-06T16:50:30.787501Z",
     "start_time": "2019-12-06T16:50:30.722126Z"
    }
   },
   "outputs": [],
   "source": [
    "def sep_hour(date_time):\n",
    "    date=date_time.strip()\n",
    "    date_=date.split(\" \")\n",
    "    hour=date_[1].split(':')\n",
    "    return(float(hour[0]))"
   ]
  },
  {
   "cell_type": "code",
   "execution_count": 17,
   "metadata": {
    "ExecuteTime": {
     "end_time": "2019-12-06T16:50:31.895505Z",
     "start_time": "2019-12-06T16:50:30.790493Z"
    }
   },
   "outputs": [],
   "source": [
    "data['date']=data.apply(lambda row:date(row['time']),axis=1) #seperates date from the datetime"
   ]
  },
  {
   "cell_type": "code",
   "execution_count": 18,
   "metadata": {
    "ExecuteTime": {
     "end_time": "2019-12-06T16:50:32.426637Z",
     "start_time": "2019-12-06T16:50:31.895505Z"
    }
   },
   "outputs": [],
   "source": [
    "data['hour']=data.apply(lambda row:sep_hour(row['time']),axis=1) #seperates hour from the datetime"
   ]
  },
  {
   "cell_type": "code",
   "execution_count": 19,
   "metadata": {
    "ExecuteTime": {
     "end_time": "2019-12-06T16:50:32.975188Z",
     "start_time": "2019-12-06T16:50:32.426637Z"
    }
   },
   "outputs": [],
   "source": [
    "data['user']=data.apply(lambda row:remove_punct(row['user']),axis=1) #removes punctuation"
   ]
  },
  {
   "cell_type": "code",
   "execution_count": 20,
   "metadata": {
    "ExecuteTime": {
     "end_time": "2019-12-06T16:50:34.730645Z",
     "start_time": "2019-12-06T16:50:32.975188Z"
    }
   },
   "outputs": [],
   "source": [
    "data['re_tweet']=data.apply(lambda row:remove_punct_int(row['re_tweet']),axis=1)\n",
    "data['fav']=data.apply(lambda row:remove_punct_int(row['fav']),axis=1)   #removes punctuation and changes the datatype to float\n",
    "data['reply']=data.apply(lambda row:remove_punct_int(row['reply']),axis=1)"
   ]
  },
  {
   "cell_type": "code",
   "execution_count": 21,
   "metadata": {
    "ExecuteTime": {
     "end_time": "2019-12-06T16:50:34.746056Z",
     "start_time": "2019-12-06T16:50:34.730645Z"
    },
    "scrolled": true
   },
   "outputs": [
    {
     "data": {
      "text/html": [
       "<div>\n",
       "<style scoped>\n",
       "    .dataframe tbody tr th:only-of-type {\n",
       "        vertical-align: middle;\n",
       "    }\n",
       "\n",
       "    .dataframe tbody tr th {\n",
       "        vertical-align: top;\n",
       "    }\n",
       "\n",
       "    .dataframe thead th {\n",
       "        text-align: right;\n",
       "    }\n",
       "</style>\n",
       "<table border=\"1\" class=\"dataframe\">\n",
       "  <thead>\n",
       "    <tr style=\"text-align: right;\">\n",
       "      <th></th>\n",
       "      <th>user</th>\n",
       "      <th>text</th>\n",
       "      <th>re_tweet</th>\n",
       "      <th>fav</th>\n",
       "      <th>reply</th>\n",
       "      <th>time</th>\n",
       "      <th>date</th>\n",
       "      <th>hour</th>\n",
       "    </tr>\n",
       "  </thead>\n",
       "  <tbody>\n",
       "    <tr>\n",
       "      <th>0</th>\n",
       "      <td>Ryanair</td>\n",
       "      <td>\"A special Game of Thrones #ThrowbackThursday  for this week: when we welcomed Jon Snow on a flight from The North (Belfast) to London last year  \\n\\nSummer is coming on  http:// ryanair.com      #GameOfThrones  #ForTheThrone  #GOT pic.twitter.com/wFGWDntgnF\",</td>\n",
       "      <td>5.0</td>\n",
       "      <td>60.0</td>\n",
       "      <td>2.0</td>\n",
       "      <td>\"2019-05-23 15:21:40\"</td>\n",
       "      <td>2019-05-23</td>\n",
       "      <td>15.0</td>\n",
       "    </tr>\n",
       "    <tr>\n",
       "      <th>1</th>\n",
       "      <td>sachintrivedig</td>\n",
       "      <td>\"'Winds Of Winter' 'Not Finished,' 'Not Hidden Away For Years,' Author Confirms #windsofwinter  #GameofThrones   https://www. ibtimes.com/winds-winter-n ot-finished-not-hidden-away-years-author-confirms-2794275   …\",</td>\n",
       "      <td>0.0</td>\n",
       "      <td>0.0</td>\n",
       "      <td>0.0</td>\n",
       "      <td>\"2019-05-23 15:21:47\"</td>\n",
       "      <td>2019-05-23</td>\n",
       "      <td>15.0</td>\n",
       "    </tr>\n",
       "    <tr>\n",
       "      <th>2</th>\n",
       "      <td>SherwinLLewis</td>\n",
       "      <td>\"Out of everyone who ever did a thing in The Game of Thrones, Aegon Targaryen and his sister wives really did the utmost #GameOfThrones\",</td>\n",
       "      <td>0.0</td>\n",
       "      <td>0.0</td>\n",
       "      <td>0.0</td>\n",
       "      <td>\"2019-05-23 15:22:10\"</td>\n",
       "      <td>2019-05-23</td>\n",
       "      <td>15.0</td>\n",
       "    </tr>\n",
       "    <tr>\n",
       "      <th>3</th>\n",
       "      <td>temperance8</td>\n",
       "      <td>\"I am dayin  \\n#gameofthrones  \\n#JonSnow pic.twitter.com/ByotJV9dbp\",</td>\n",
       "      <td>0.0</td>\n",
       "      <td>0.0</td>\n",
       "      <td>0.0</td>\n",
       "      <td>\"2019-05-23 15:22:15\"</td>\n",
       "      <td>2019-05-23</td>\n",
       "      <td>15.0</td>\n",
       "    </tr>\n",
       "    <tr>\n",
       "      <th>4</th>\n",
       "      <td>freefolkbot</td>\n",
       "      <td>\"We won’t get season 8 re-written, but maybe we can save Star Wars. #GoT  #GameofThrones   https:// redd.it/bry14g   pic.twitter.com/aOAH5v61Ei\",</td>\n",
       "      <td>0.0</td>\n",
       "      <td>0.0</td>\n",
       "      <td>0.0</td>\n",
       "      <td>\"2019-05-23 15:22:19\"</td>\n",
       "      <td>2019-05-23</td>\n",
       "      <td>15.0</td>\n",
       "    </tr>\n",
       "  </tbody>\n",
       "</table>\n",
       "</div>"
      ],
      "text/plain": [
       "               user  \\\n",
       "0   Ryanair           \n",
       "1   sachintrivedig    \n",
       "2   SherwinLLewis     \n",
       "3   temperance8       \n",
       "4   freefolkbot       \n",
       "\n",
       "                                                                                                                                                                                                                                                                     text  \\\n",
       "0   \"A special Game of Thrones #ThrowbackThursday  for this week: when we welcomed Jon Snow on a flight from The North (Belfast) to London last year  \\n\\nSummer is coming on  http:// ryanair.com      #GameOfThrones  #ForTheThrone  #GOT pic.twitter.com/wFGWDntgnF\",    \n",
       "1   \"'Winds Of Winter' 'Not Finished,' 'Not Hidden Away For Years,' Author Confirms #windsofwinter  #GameofThrones   https://www. ibtimes.com/winds-winter-n ot-finished-not-hidden-away-years-author-confirms-2794275   …\",                                                \n",
       "2   \"Out of everyone who ever did a thing in The Game of Thrones, Aegon Targaryen and his sister wives really did the utmost #GameOfThrones\",                                                                                                                               \n",
       "3   \"I am dayin  \\n#gameofthrones  \\n#JonSnow pic.twitter.com/ByotJV9dbp\",                                                                                                                                                                                                  \n",
       "4   \"We won’t get season 8 re-written, but maybe we can save Star Wars. #GoT  #GameofThrones   https:// redd.it/bry14g   pic.twitter.com/aOAH5v61Ei\",                                                                                                                       \n",
       "\n",
       "   re_tweet   fav  reply                    time        date  hour  \n",
       "0  5.0       60.0  2.0     \"2019-05-23 15:21:40\"  2019-05-23  15.0  \n",
       "1  0.0       0.0   0.0     \"2019-05-23 15:21:47\"  2019-05-23  15.0  \n",
       "2  0.0       0.0   0.0     \"2019-05-23 15:22:10\"  2019-05-23  15.0  \n",
       "3  0.0       0.0   0.0     \"2019-05-23 15:22:15\"  2019-05-23  15.0  \n",
       "4  0.0       0.0   0.0     \"2019-05-23 15:22:19\"  2019-05-23  15.0  "
      ]
     },
     "execution_count": 21,
     "metadata": {},
     "output_type": "execute_result"
    }
   ],
   "source": [
    "data.head()  #review"
   ]
  },
  {
   "cell_type": "markdown",
   "metadata": {},
   "source": [
    "## Function to count '#' in the tweet"
   ]
  },
  {
   "cell_type": "code",
   "execution_count": 22,
   "metadata": {
    "ExecuteTime": {
     "end_time": "2019-12-06T16:50:34.808887Z",
     "start_time": "2019-12-06T16:50:34.749048Z"
    }
   },
   "outputs": [],
   "source": [
    "def len_hash(text):\n",
    "    hash_tag_len=text.count('#') #counts the number of # tags present in each tweet\n",
    "    return float(hash_tag_len) #returns the # tag count\n",
    "    "
   ]
  },
  {
   "cell_type": "code",
   "execution_count": 23,
   "metadata": {
    "ExecuteTime": {
     "end_time": "2019-12-06T16:50:35.388281Z",
     "start_time": "2019-12-06T16:50:34.817864Z"
    }
   },
   "outputs": [],
   "source": [
    "data['len_hash_tag']=data.apply(lambda row:len_hash(row['text']),axis=1)"
   ]
  },
  {
   "cell_type": "code",
   "execution_count": 24,
   "metadata": {
    "ExecuteTime": {
     "end_time": "2019-12-06T16:50:35.412409Z",
     "start_time": "2019-12-06T16:50:35.393461Z"
    },
    "scrolled": false
   },
   "outputs": [
    {
     "data": {
      "text/html": [
       "<div>\n",
       "<style scoped>\n",
       "    .dataframe tbody tr th:only-of-type {\n",
       "        vertical-align: middle;\n",
       "    }\n",
       "\n",
       "    .dataframe tbody tr th {\n",
       "        vertical-align: top;\n",
       "    }\n",
       "\n",
       "    .dataframe thead th {\n",
       "        text-align: right;\n",
       "    }\n",
       "</style>\n",
       "<table border=\"1\" class=\"dataframe\">\n",
       "  <thead>\n",
       "    <tr style=\"text-align: right;\">\n",
       "      <th></th>\n",
       "      <th>user</th>\n",
       "      <th>text</th>\n",
       "      <th>re_tweet</th>\n",
       "      <th>fav</th>\n",
       "      <th>reply</th>\n",
       "      <th>time</th>\n",
       "      <th>date</th>\n",
       "      <th>hour</th>\n",
       "      <th>len_hash_tag</th>\n",
       "    </tr>\n",
       "  </thead>\n",
       "  <tbody>\n",
       "    <tr>\n",
       "      <th>0</th>\n",
       "      <td>Ryanair</td>\n",
       "      <td>\"A special Game of Thrones #ThrowbackThursday  for this week: when we welcomed Jon Snow on a flight from The North (Belfast) to London last year  \\n\\nSummer is coming on  http:// ryanair.com      #GameOfThrones  #ForTheThrone  #GOT pic.twitter.com/wFGWDntgnF\",</td>\n",
       "      <td>5.0</td>\n",
       "      <td>60.0</td>\n",
       "      <td>2.0</td>\n",
       "      <td>\"2019-05-23 15:21:40\"</td>\n",
       "      <td>2019-05-23</td>\n",
       "      <td>15.0</td>\n",
       "      <td>4.0</td>\n",
       "    </tr>\n",
       "    <tr>\n",
       "      <th>1</th>\n",
       "      <td>sachintrivedig</td>\n",
       "      <td>\"'Winds Of Winter' 'Not Finished,' 'Not Hidden Away For Years,' Author Confirms #windsofwinter  #GameofThrones   https://www. ibtimes.com/winds-winter-n ot-finished-not-hidden-away-years-author-confirms-2794275   …\",</td>\n",
       "      <td>0.0</td>\n",
       "      <td>0.0</td>\n",
       "      <td>0.0</td>\n",
       "      <td>\"2019-05-23 15:21:47\"</td>\n",
       "      <td>2019-05-23</td>\n",
       "      <td>15.0</td>\n",
       "      <td>2.0</td>\n",
       "    </tr>\n",
       "    <tr>\n",
       "      <th>2</th>\n",
       "      <td>SherwinLLewis</td>\n",
       "      <td>\"Out of everyone who ever did a thing in The Game of Thrones, Aegon Targaryen and his sister wives really did the utmost #GameOfThrones\",</td>\n",
       "      <td>0.0</td>\n",
       "      <td>0.0</td>\n",
       "      <td>0.0</td>\n",
       "      <td>\"2019-05-23 15:22:10\"</td>\n",
       "      <td>2019-05-23</td>\n",
       "      <td>15.0</td>\n",
       "      <td>1.0</td>\n",
       "    </tr>\n",
       "    <tr>\n",
       "      <th>3</th>\n",
       "      <td>temperance8</td>\n",
       "      <td>\"I am dayin  \\n#gameofthrones  \\n#JonSnow pic.twitter.com/ByotJV9dbp\",</td>\n",
       "      <td>0.0</td>\n",
       "      <td>0.0</td>\n",
       "      <td>0.0</td>\n",
       "      <td>\"2019-05-23 15:22:15\"</td>\n",
       "      <td>2019-05-23</td>\n",
       "      <td>15.0</td>\n",
       "      <td>2.0</td>\n",
       "    </tr>\n",
       "    <tr>\n",
       "      <th>4</th>\n",
       "      <td>freefolkbot</td>\n",
       "      <td>\"We won’t get season 8 re-written, but maybe we can save Star Wars. #GoT  #GameofThrones   https:// redd.it/bry14g   pic.twitter.com/aOAH5v61Ei\",</td>\n",
       "      <td>0.0</td>\n",
       "      <td>0.0</td>\n",
       "      <td>0.0</td>\n",
       "      <td>\"2019-05-23 15:22:19\"</td>\n",
       "      <td>2019-05-23</td>\n",
       "      <td>15.0</td>\n",
       "      <td>2.0</td>\n",
       "    </tr>\n",
       "  </tbody>\n",
       "</table>\n",
       "</div>"
      ],
      "text/plain": [
       "               user  \\\n",
       "0   Ryanair           \n",
       "1   sachintrivedig    \n",
       "2   SherwinLLewis     \n",
       "3   temperance8       \n",
       "4   freefolkbot       \n",
       "\n",
       "                                                                                                                                                                                                                                                                     text  \\\n",
       "0   \"A special Game of Thrones #ThrowbackThursday  for this week: when we welcomed Jon Snow on a flight from The North (Belfast) to London last year  \\n\\nSummer is coming on  http:// ryanair.com      #GameOfThrones  #ForTheThrone  #GOT pic.twitter.com/wFGWDntgnF\",    \n",
       "1   \"'Winds Of Winter' 'Not Finished,' 'Not Hidden Away For Years,' Author Confirms #windsofwinter  #GameofThrones   https://www. ibtimes.com/winds-winter-n ot-finished-not-hidden-away-years-author-confirms-2794275   …\",                                                \n",
       "2   \"Out of everyone who ever did a thing in The Game of Thrones, Aegon Targaryen and his sister wives really did the utmost #GameOfThrones\",                                                                                                                               \n",
       "3   \"I am dayin  \\n#gameofthrones  \\n#JonSnow pic.twitter.com/ByotJV9dbp\",                                                                                                                                                                                                  \n",
       "4   \"We won’t get season 8 re-written, but maybe we can save Star Wars. #GoT  #GameofThrones   https:// redd.it/bry14g   pic.twitter.com/aOAH5v61Ei\",                                                                                                                       \n",
       "\n",
       "   re_tweet   fav  reply                    time        date  hour  \\\n",
       "0  5.0       60.0  2.0     \"2019-05-23 15:21:40\"  2019-05-23  15.0   \n",
       "1  0.0       0.0   0.0     \"2019-05-23 15:21:47\"  2019-05-23  15.0   \n",
       "2  0.0       0.0   0.0     \"2019-05-23 15:22:10\"  2019-05-23  15.0   \n",
       "3  0.0       0.0   0.0     \"2019-05-23 15:22:15\"  2019-05-23  15.0   \n",
       "4  0.0       0.0   0.0     \"2019-05-23 15:22:19\"  2019-05-23  15.0   \n",
       "\n",
       "   len_hash_tag  \n",
       "0  4.0           \n",
       "1  2.0           \n",
       "2  1.0           \n",
       "3  2.0           \n",
       "4  2.0           "
      ]
     },
     "execution_count": 24,
     "metadata": {},
     "output_type": "execute_result"
    }
   ],
   "source": [
    "data.head()"
   ]
  },
  {
   "cell_type": "markdown",
   "metadata": {},
   "source": [
    "### cleaning this unstructured text is very hard so , with the help of json file I tried again to combine all my tweet file and i succeeded , Further analysis will be done by that file\n",
    "\n",
    "\n",
    "\n",
    "\n"
   ]
  },
  {
   "cell_type": "code",
   "execution_count": 25,
   "metadata": {
    "ExecuteTime": {
     "end_time": "2019-12-06T16:50:35.853713Z",
     "start_time": "2019-12-06T16:50:35.414403Z"
    },
    "scrolled": true
   },
   "outputs": [],
   "source": [
    "tweet=pd.read_csv(\"GOT.csv\") #importing file"
   ]
  },
  {
   "cell_type": "code",
   "execution_count": 26,
   "metadata": {
    "ExecuteTime": {
     "end_time": "2019-12-06T16:50:35.872670Z",
     "start_time": "2019-12-06T16:50:35.855712Z"
    },
    "scrolled": true
   },
   "outputs": [
    {
     "data": {
      "text/html": [
       "<div>\n",
       "<style scoped>\n",
       "    .dataframe tbody tr th:only-of-type {\n",
       "        vertical-align: middle;\n",
       "    }\n",
       "\n",
       "    .dataframe tbody tr th {\n",
       "        vertical-align: top;\n",
       "    }\n",
       "\n",
       "    .dataframe thead th {\n",
       "        text-align: right;\n",
       "    }\n",
       "</style>\n",
       "<table border=\"1\" class=\"dataframe\">\n",
       "  <thead>\n",
       "    <tr style=\"text-align: right;\">\n",
       "      <th></th>\n",
       "      <th>usernameTweet</th>\n",
       "      <th>ID</th>\n",
       "      <th>text</th>\n",
       "      <th>url</th>\n",
       "      <th>nbr_retweet</th>\n",
       "      <th>nbr_favorite</th>\n",
       "      <th>nbr_reply</th>\n",
       "      <th>datetime</th>\n",
       "      <th>is_reply</th>\n",
       "      <th>is_retweet</th>\n",
       "      <th>user_id</th>\n",
       "      <th>has_media</th>\n",
       "      <th>medias</th>\n",
       "    </tr>\n",
       "  </thead>\n",
       "  <tbody>\n",
       "    <tr>\n",
       "      <th>0</th>\n",
       "      <td>Ryanair</td>\n",
       "      <td>1131497916663783424</td>\n",
       "      <td>A special Game of Thrones #ThrowbackThursday  for this week: when we welcomed Jon Snow on a flight from The North (Belfast) to London last year  \\n\\nSummer is coming on  http:// ryanair.com      #GameOfThrones  #ForTheThrone  #GOT pic.twitter.com/wFGWDntgnF</td>\n",
       "      <td>/Ryanair/status/1131497916663783424</td>\n",
       "      <td>5</td>\n",
       "      <td>60</td>\n",
       "      <td>2</td>\n",
       "      <td>2019-05-23 15:21:40</td>\n",
       "      <td>False</td>\n",
       "      <td>False</td>\n",
       "      <td>1542862735</td>\n",
       "      <td>NaN</td>\n",
       "      <td>NaN</td>\n",
       "    </tr>\n",
       "    <tr>\n",
       "      <th>1</th>\n",
       "      <td>sachintrivedig</td>\n",
       "      <td>1131497948922040320</td>\n",
       "      <td>'Winds Of Winter' 'Not Finished,' 'Not Hidden Away For Years,' Author Confirms #windsofwinter  #GameofThrones   https://www. ibtimes.com/winds-winter-n ot-finished-not-hidden-away-years-author-confirms-2794275   …</td>\n",
       "      <td>/sachintrivedig/status/1131497948922040320</td>\n",
       "      <td>0</td>\n",
       "      <td>0</td>\n",
       "      <td>0</td>\n",
       "      <td>2019-05-23 15:21:47</td>\n",
       "      <td>False</td>\n",
       "      <td>False</td>\n",
       "      <td>1356262172</td>\n",
       "      <td>True</td>\n",
       "      <td>['https://t.co/3PFXzP8HBe']</td>\n",
       "    </tr>\n",
       "    <tr>\n",
       "      <th>2</th>\n",
       "      <td>SherwinLLewis</td>\n",
       "      <td>1131498045697384448</td>\n",
       "      <td>Out of everyone who ever did a thing in The Game of Thrones, Aegon Targaryen and his sister wives really did the utmost #GameOfThrones</td>\n",
       "      <td>/SherwinLLewis/status/1131498045697384448</td>\n",
       "      <td>0</td>\n",
       "      <td>0</td>\n",
       "      <td>0</td>\n",
       "      <td>2019-05-23 15:22:10</td>\n",
       "      <td>False</td>\n",
       "      <td>False</td>\n",
       "      <td>1260340831</td>\n",
       "      <td>NaN</td>\n",
       "      <td>NaN</td>\n",
       "    </tr>\n",
       "    <tr>\n",
       "      <th>3</th>\n",
       "      <td>temperance8</td>\n",
       "      <td>1131498066773762049</td>\n",
       "      <td>I am dayin  \\n#gameofthrones  \\n#JonSnow pic.twitter.com/ByotJV9dbp</td>\n",
       "      <td>/temperance8/status/1131498066773762049</td>\n",
       "      <td>0</td>\n",
       "      <td>0</td>\n",
       "      <td>0</td>\n",
       "      <td>2019-05-23 15:22:15</td>\n",
       "      <td>False</td>\n",
       "      <td>False</td>\n",
       "      <td>277148437</td>\n",
       "      <td>NaN</td>\n",
       "      <td>NaN</td>\n",
       "    </tr>\n",
       "    <tr>\n",
       "      <th>4</th>\n",
       "      <td>freefolkbot</td>\n",
       "      <td>1131498080531046400</td>\n",
       "      <td>We won’t get season 8 re-written, but maybe we can save Star Wars. #GoT  #GameofThrones   https:// redd.it/bry14g   pic.twitter.com/aOAH5v61Ei</td>\n",
       "      <td>/freefolkbot/status/1131498080531046400</td>\n",
       "      <td>0</td>\n",
       "      <td>0</td>\n",
       "      <td>0</td>\n",
       "      <td>2019-05-23 15:22:19</td>\n",
       "      <td>False</td>\n",
       "      <td>False</td>\n",
       "      <td>999812247294791680</td>\n",
       "      <td>NaN</td>\n",
       "      <td>NaN</td>\n",
       "    </tr>\n",
       "  </tbody>\n",
       "</table>\n",
       "</div>"
      ],
      "text/plain": [
       "    usernameTweet                   ID  \\\n",
       "0  Ryanair         1131497916663783424   \n",
       "1  sachintrivedig  1131497948922040320   \n",
       "2  SherwinLLewis   1131498045697384448   \n",
       "3  temperance8     1131498066773762049   \n",
       "4  freefolkbot     1131498080531046400   \n",
       "\n",
       "                                                                                                                                                                                                                                                                text  \\\n",
       "0  A special Game of Thrones #ThrowbackThursday  for this week: when we welcomed Jon Snow on a flight from The North (Belfast) to London last year  \\n\\nSummer is coming on  http:// ryanair.com      #GameOfThrones  #ForTheThrone  #GOT pic.twitter.com/wFGWDntgnF   \n",
       "1  'Winds Of Winter' 'Not Finished,' 'Not Hidden Away For Years,' Author Confirms #windsofwinter  #GameofThrones   https://www. ibtimes.com/winds-winter-n ot-finished-not-hidden-away-years-author-confirms-2794275   …                                               \n",
       "2  Out of everyone who ever did a thing in The Game of Thrones, Aegon Targaryen and his sister wives really did the utmost #GameOfThrones                                                                                                                              \n",
       "3  I am dayin  \\n#gameofthrones  \\n#JonSnow pic.twitter.com/ByotJV9dbp                                                                                                                                                                                                 \n",
       "4  We won’t get season 8 re-written, but maybe we can save Star Wars. #GoT  #GameofThrones   https:// redd.it/bry14g   pic.twitter.com/aOAH5v61Ei                                                                                                                      \n",
       "\n",
       "                                          url  nbr_retweet  nbr_favorite  \\\n",
       "0  /Ryanair/status/1131497916663783424         5            60             \n",
       "1  /sachintrivedig/status/1131497948922040320  0            0              \n",
       "2  /SherwinLLewis/status/1131498045697384448   0            0              \n",
       "3  /temperance8/status/1131498066773762049     0            0              \n",
       "4  /freefolkbot/status/1131498080531046400     0            0              \n",
       "\n",
       "   nbr_reply             datetime  is_reply  is_retweet             user_id  \\\n",
       "0  2          2019-05-23 15:21:40  False     False       1542862735           \n",
       "1  0          2019-05-23 15:21:47  False     False       1356262172           \n",
       "2  0          2019-05-23 15:22:10  False     False       1260340831           \n",
       "3  0          2019-05-23 15:22:15  False     False       277148437            \n",
       "4  0          2019-05-23 15:22:19  False     False       999812247294791680   \n",
       "\n",
       "  has_media                       medias  \n",
       "0  NaN       NaN                          \n",
       "1  True      ['https://t.co/3PFXzP8HBe']  \n",
       "2  NaN       NaN                          \n",
       "3  NaN       NaN                          \n",
       "4  NaN       NaN                          "
      ]
     },
     "execution_count": 26,
     "metadata": {},
     "output_type": "execute_result"
    }
   ],
   "source": [
    "tweet.head()"
   ]
  },
  {
   "cell_type": "code",
   "execution_count": 27,
   "metadata": {
    "ExecuteTime": {
     "end_time": "2019-12-06T16:50:36.022943Z",
     "start_time": "2019-12-06T16:50:35.874663Z"
    }
   },
   "outputs": [],
   "source": [
    "tweet=tweet.drop(columns=['is_reply','is_retweet','user_id','has_media','medias','url','ID']) #dropping unnecessary columns"
   ]
  },
  {
   "cell_type": "markdown",
   "metadata": {},
   "source": [
    "## Function to split the date from the date-time"
   ]
  },
  {
   "cell_type": "code",
   "execution_count": 28,
   "metadata": {
    "ExecuteTime": {
     "end_time": "2019-12-06T16:50:36.100687Z",
     "start_time": "2019-12-06T16:50:36.023942Z"
    }
   },
   "outputs": [],
   "source": [
    "def sep_date(date_time):\n",
    "   \n",
    "    date=date_time.split(\" \")\n",
    "    \n",
    "    return str((datetime.strptime(date[0],'%Y-%m-%d').date()))  #extract only date and converts into datetime format"
   ]
  },
  {
   "cell_type": "code",
   "execution_count": 29,
   "metadata": {
    "ExecuteTime": {
     "end_time": "2019-12-06T16:50:37.767879Z",
     "start_time": "2019-12-06T16:50:36.107660Z"
    }
   },
   "outputs": [],
   "source": [
    "tweet['date']=tweet.apply(lambda row:sep_date(row['datetime']),axis=1) #splitting date\n",
    "tweet['hour']=tweet.apply(lambda row:sep_hour(row['datetime']),axis=1) #splitting hour"
   ]
  },
  {
   "cell_type": "code",
   "execution_count": 30,
   "metadata": {
    "ExecuteTime": {
     "end_time": "2019-12-06T16:50:37.780160Z",
     "start_time": "2019-12-06T16:50:37.767879Z"
    }
   },
   "outputs": [
    {
     "data": {
      "text/html": [
       "<div>\n",
       "<style scoped>\n",
       "    .dataframe tbody tr th:only-of-type {\n",
       "        vertical-align: middle;\n",
       "    }\n",
       "\n",
       "    .dataframe tbody tr th {\n",
       "        vertical-align: top;\n",
       "    }\n",
       "\n",
       "    .dataframe thead th {\n",
       "        text-align: right;\n",
       "    }\n",
       "</style>\n",
       "<table border=\"1\" class=\"dataframe\">\n",
       "  <thead>\n",
       "    <tr style=\"text-align: right;\">\n",
       "      <th></th>\n",
       "      <th>usernameTweet</th>\n",
       "      <th>text</th>\n",
       "      <th>nbr_retweet</th>\n",
       "      <th>nbr_favorite</th>\n",
       "      <th>nbr_reply</th>\n",
       "      <th>datetime</th>\n",
       "      <th>date</th>\n",
       "      <th>hour</th>\n",
       "    </tr>\n",
       "  </thead>\n",
       "  <tbody>\n",
       "    <tr>\n",
       "      <th>0</th>\n",
       "      <td>Ryanair</td>\n",
       "      <td>A special Game of Thrones #ThrowbackThursday  for this week: when we welcomed Jon Snow on a flight from The North (Belfast) to London last year  \\n\\nSummer is coming on  http:// ryanair.com      #GameOfThrones  #ForTheThrone  #GOT pic.twitter.com/wFGWDntgnF</td>\n",
       "      <td>5</td>\n",
       "      <td>60</td>\n",
       "      <td>2</td>\n",
       "      <td>2019-05-23 15:21:40</td>\n",
       "      <td>2019-05-23</td>\n",
       "      <td>15.0</td>\n",
       "    </tr>\n",
       "    <tr>\n",
       "      <th>1</th>\n",
       "      <td>sachintrivedig</td>\n",
       "      <td>'Winds Of Winter' 'Not Finished,' 'Not Hidden Away For Years,' Author Confirms #windsofwinter  #GameofThrones   https://www. ibtimes.com/winds-winter-n ot-finished-not-hidden-away-years-author-confirms-2794275   …</td>\n",
       "      <td>0</td>\n",
       "      <td>0</td>\n",
       "      <td>0</td>\n",
       "      <td>2019-05-23 15:21:47</td>\n",
       "      <td>2019-05-23</td>\n",
       "      <td>15.0</td>\n",
       "    </tr>\n",
       "    <tr>\n",
       "      <th>2</th>\n",
       "      <td>SherwinLLewis</td>\n",
       "      <td>Out of everyone who ever did a thing in The Game of Thrones, Aegon Targaryen and his sister wives really did the utmost #GameOfThrones</td>\n",
       "      <td>0</td>\n",
       "      <td>0</td>\n",
       "      <td>0</td>\n",
       "      <td>2019-05-23 15:22:10</td>\n",
       "      <td>2019-05-23</td>\n",
       "      <td>15.0</td>\n",
       "    </tr>\n",
       "    <tr>\n",
       "      <th>3</th>\n",
       "      <td>temperance8</td>\n",
       "      <td>I am dayin  \\n#gameofthrones  \\n#JonSnow pic.twitter.com/ByotJV9dbp</td>\n",
       "      <td>0</td>\n",
       "      <td>0</td>\n",
       "      <td>0</td>\n",
       "      <td>2019-05-23 15:22:15</td>\n",
       "      <td>2019-05-23</td>\n",
       "      <td>15.0</td>\n",
       "    </tr>\n",
       "    <tr>\n",
       "      <th>4</th>\n",
       "      <td>freefolkbot</td>\n",
       "      <td>We won’t get season 8 re-written, but maybe we can save Star Wars. #GoT  #GameofThrones   https:// redd.it/bry14g   pic.twitter.com/aOAH5v61Ei</td>\n",
       "      <td>0</td>\n",
       "      <td>0</td>\n",
       "      <td>0</td>\n",
       "      <td>2019-05-23 15:22:19</td>\n",
       "      <td>2019-05-23</td>\n",
       "      <td>15.0</td>\n",
       "    </tr>\n",
       "  </tbody>\n",
       "</table>\n",
       "</div>"
      ],
      "text/plain": [
       "    usernameTweet  \\\n",
       "0  Ryanair          \n",
       "1  sachintrivedig   \n",
       "2  SherwinLLewis    \n",
       "3  temperance8      \n",
       "4  freefolkbot      \n",
       "\n",
       "                                                                                                                                                                                                                                                                text  \\\n",
       "0  A special Game of Thrones #ThrowbackThursday  for this week: when we welcomed Jon Snow on a flight from The North (Belfast) to London last year  \\n\\nSummer is coming on  http:// ryanair.com      #GameOfThrones  #ForTheThrone  #GOT pic.twitter.com/wFGWDntgnF   \n",
       "1  'Winds Of Winter' 'Not Finished,' 'Not Hidden Away For Years,' Author Confirms #windsofwinter  #GameofThrones   https://www. ibtimes.com/winds-winter-n ot-finished-not-hidden-away-years-author-confirms-2794275   …                                               \n",
       "2  Out of everyone who ever did a thing in The Game of Thrones, Aegon Targaryen and his sister wives really did the utmost #GameOfThrones                                                                                                                              \n",
       "3  I am dayin  \\n#gameofthrones  \\n#JonSnow pic.twitter.com/ByotJV9dbp                                                                                                                                                                                                 \n",
       "4  We won’t get season 8 re-written, but maybe we can save Star Wars. #GoT  #GameofThrones   https:// redd.it/bry14g   pic.twitter.com/aOAH5v61Ei                                                                                                                      \n",
       "\n",
       "   nbr_retweet  nbr_favorite  nbr_reply             datetime        date  hour  \n",
       "0  5            60            2          2019-05-23 15:21:40  2019-05-23  15.0  \n",
       "1  0            0             0          2019-05-23 15:21:47  2019-05-23  15.0  \n",
       "2  0            0             0          2019-05-23 15:22:10  2019-05-23  15.0  \n",
       "3  0            0             0          2019-05-23 15:22:15  2019-05-23  15.0  \n",
       "4  0            0             0          2019-05-23 15:22:19  2019-05-23  15.0  "
      ]
     },
     "execution_count": 30,
     "metadata": {},
     "output_type": "execute_result"
    }
   ],
   "source": [
    "tweet.head()"
   ]
  },
  {
   "cell_type": "code",
   "execution_count": 31,
   "metadata": {
    "ExecuteTime": {
     "end_time": "2019-12-06T16:50:38.400907Z",
     "start_time": "2019-12-06T16:50:37.782152Z"
    }
   },
   "outputs": [],
   "source": [
    "tweet['len_hash_tag']=tweet.apply(lambda row:len_hash(row['text']),axis=1) #returns the length of the tweet"
   ]
  },
  {
   "cell_type": "markdown",
   "metadata": {
    "ExecuteTime": {
     "end_time": "2019-12-05T09:56:18.166157Z",
     "start_time": "2019-12-05T09:56:18.161144Z"
    }
   },
   "source": [
    "## Function to Clean the text"
   ]
  },
  {
   "cell_type": "code",
   "execution_count": 32,
   "metadata": {
    "ExecuteTime": {
     "end_time": "2019-12-06T16:50:38.414370Z",
     "start_time": "2019-12-06T16:50:38.400907Z"
    }
   },
   "outputs": [],
   "source": [
    "def clean_text(text):\n",
    "    \n",
    "    text =text\n",
    "    stop=stopwords.words('english')  #stop words in english\n",
    "    punct=string.punctuation        #punctuation\n",
    "    lemmatizer = WordNetLemmatizer() #training lemmatizer function\n",
    "    ps=stemmer()       \n",
    "    \n",
    "    text_lwr=text.lower()\n",
    "    rem_hash=re.sub('#[a-z]+|# [a-z]+','',text_lwr) #removes all the hashtags from th tweet\n",
    "    rem=re.sub('(pic.twitter.com)(.)+','',rem_hash) #removes pictures link in the tweet\n",
    "    tweet= re.sub(r'(https?:\\/\\/)(\\s)*(www\\.)?(\\s)*((\\w|\\s)+\\.)*([\\w\\-\\s]+\\/)*([\\w\\-]+)((\\?)?[\\w\\s]*=\\s*[\\w\\%&]*)*(.)*', '', rem) # remove http links\n",
    "    tweet = re.sub(r'bit.ly/\\S+', '', tweet) # rempve bitly links\n",
    "    tweet = tweet.strip('[link]')\n",
    "    \n",
    "    tweet= re.sub(\"\\d+\", \"\", tweet)\n",
    "    tweet=[word for word in tweet if word not in punct]   #removes punctuation\n",
    "    sentence=''.join(tweet)\n",
    "    word=sentence.split()\n",
    "    word=[tokens for tokens in word if tokens not in stop]  #removes stopwords\n",
    "    word=[lemmatizer.lemmatize(token) for token in word]     \n",
    "    tweet=' '.join(word)\n",
    "    cleaned=re.sub(' +',' ',tweet)          #removes extra spaces\n",
    "    return cleaned                      #returns the cleaned review\n",
    "    "
   ]
  },
  {
   "cell_type": "code",
   "execution_count": 33,
   "metadata": {
    "ExecuteTime": {
     "end_time": "2019-12-06T16:50:59.498895Z",
     "start_time": "2019-12-06T16:50:38.415368Z"
    }
   },
   "outputs": [],
   "source": [
    "tweet['cleaned_text']=tweet.apply(lambda row:clean_text(row['text']),axis=1)"
   ]
  },
  {
   "cell_type": "code",
   "execution_count": 34,
   "metadata": {
    "ExecuteTime": {
     "end_time": "2019-12-06T16:50:59.515565Z",
     "start_time": "2019-12-06T16:50:59.498895Z"
    }
   },
   "outputs": [
    {
     "data": {
      "text/html": [
       "<div>\n",
       "<style scoped>\n",
       "    .dataframe tbody tr th:only-of-type {\n",
       "        vertical-align: middle;\n",
       "    }\n",
       "\n",
       "    .dataframe tbody tr th {\n",
       "        vertical-align: top;\n",
       "    }\n",
       "\n",
       "    .dataframe thead th {\n",
       "        text-align: right;\n",
       "    }\n",
       "</style>\n",
       "<table border=\"1\" class=\"dataframe\">\n",
       "  <thead>\n",
       "    <tr style=\"text-align: right;\">\n",
       "      <th></th>\n",
       "      <th>usernameTweet</th>\n",
       "      <th>text</th>\n",
       "      <th>nbr_retweet</th>\n",
       "      <th>nbr_favorite</th>\n",
       "      <th>nbr_reply</th>\n",
       "      <th>datetime</th>\n",
       "      <th>date</th>\n",
       "      <th>hour</th>\n",
       "      <th>len_hash_tag</th>\n",
       "      <th>cleaned_text</th>\n",
       "    </tr>\n",
       "  </thead>\n",
       "  <tbody>\n",
       "    <tr>\n",
       "      <th>0</th>\n",
       "      <td>Ryanair</td>\n",
       "      <td>A special Game of Thrones #ThrowbackThursday  for this week: when we welcomed Jon Snow on a flight from The North (Belfast) to London last year  \\n\\nSummer is coming on  http:// ryanair.com      #GameOfThrones  #ForTheThrone  #GOT pic.twitter.com/wFGWDntgnF</td>\n",
       "      <td>5</td>\n",
       "      <td>60</td>\n",
       "      <td>2</td>\n",
       "      <td>2019-05-23 15:21:40</td>\n",
       "      <td>2019-05-23</td>\n",
       "      <td>15.0</td>\n",
       "      <td>4.0</td>\n",
       "      <td>special game throne week welcomed jon snow flight north belfast london last year summer coming</td>\n",
       "    </tr>\n",
       "    <tr>\n",
       "      <th>1</th>\n",
       "      <td>sachintrivedig</td>\n",
       "      <td>'Winds Of Winter' 'Not Finished,' 'Not Hidden Away For Years,' Author Confirms #windsofwinter  #GameofThrones   https://www. ibtimes.com/winds-winter-n ot-finished-not-hidden-away-years-author-confirms-2794275   …</td>\n",
       "      <td>0</td>\n",
       "      <td>0</td>\n",
       "      <td>0</td>\n",
       "      <td>2019-05-23 15:21:47</td>\n",
       "      <td>2019-05-23</td>\n",
       "      <td>15.0</td>\n",
       "      <td>2.0</td>\n",
       "      <td>wind winter finished hidden away year author confirms</td>\n",
       "    </tr>\n",
       "    <tr>\n",
       "      <th>2</th>\n",
       "      <td>SherwinLLewis</td>\n",
       "      <td>Out of everyone who ever did a thing in The Game of Thrones, Aegon Targaryen and his sister wives really did the utmost #GameOfThrones</td>\n",
       "      <td>0</td>\n",
       "      <td>0</td>\n",
       "      <td>0</td>\n",
       "      <td>2019-05-23 15:22:10</td>\n",
       "      <td>2019-05-23</td>\n",
       "      <td>15.0</td>\n",
       "      <td>1.0</td>\n",
       "      <td>everyone ever thing game throne aegon targaryen sister wife really utmost</td>\n",
       "    </tr>\n",
       "    <tr>\n",
       "      <th>3</th>\n",
       "      <td>temperance8</td>\n",
       "      <td>I am dayin  \\n#gameofthrones  \\n#JonSnow pic.twitter.com/ByotJV9dbp</td>\n",
       "      <td>0</td>\n",
       "      <td>0</td>\n",
       "      <td>0</td>\n",
       "      <td>2019-05-23 15:22:15</td>\n",
       "      <td>2019-05-23</td>\n",
       "      <td>15.0</td>\n",
       "      <td>2.0</td>\n",
       "      <td>dayin</td>\n",
       "    </tr>\n",
       "    <tr>\n",
       "      <th>4</th>\n",
       "      <td>freefolkbot</td>\n",
       "      <td>We won’t get season 8 re-written, but maybe we can save Star Wars. #GoT  #GameofThrones   https:// redd.it/bry14g   pic.twitter.com/aOAH5v61Ei</td>\n",
       "      <td>0</td>\n",
       "      <td>0</td>\n",
       "      <td>0</td>\n",
       "      <td>2019-05-23 15:22:19</td>\n",
       "      <td>2019-05-23</td>\n",
       "      <td>15.0</td>\n",
       "      <td>2.0</td>\n",
       "      <td>won’t get season rewritten maybe save star war</td>\n",
       "    </tr>\n",
       "  </tbody>\n",
       "</table>\n",
       "</div>"
      ],
      "text/plain": [
       "    usernameTweet  \\\n",
       "0  Ryanair          \n",
       "1  sachintrivedig   \n",
       "2  SherwinLLewis    \n",
       "3  temperance8      \n",
       "4  freefolkbot      \n",
       "\n",
       "                                                                                                                                                                                                                                                                text  \\\n",
       "0  A special Game of Thrones #ThrowbackThursday  for this week: when we welcomed Jon Snow on a flight from The North (Belfast) to London last year  \\n\\nSummer is coming on  http:// ryanair.com      #GameOfThrones  #ForTheThrone  #GOT pic.twitter.com/wFGWDntgnF   \n",
       "1  'Winds Of Winter' 'Not Finished,' 'Not Hidden Away For Years,' Author Confirms #windsofwinter  #GameofThrones   https://www. ibtimes.com/winds-winter-n ot-finished-not-hidden-away-years-author-confirms-2794275   …                                               \n",
       "2  Out of everyone who ever did a thing in The Game of Thrones, Aegon Targaryen and his sister wives really did the utmost #GameOfThrones                                                                                                                              \n",
       "3  I am dayin  \\n#gameofthrones  \\n#JonSnow pic.twitter.com/ByotJV9dbp                                                                                                                                                                                                 \n",
       "4  We won’t get season 8 re-written, but maybe we can save Star Wars. #GoT  #GameofThrones   https:// redd.it/bry14g   pic.twitter.com/aOAH5v61Ei                                                                                                                      \n",
       "\n",
       "   nbr_retweet  nbr_favorite  nbr_reply             datetime        date  \\\n",
       "0  5            60            2          2019-05-23 15:21:40  2019-05-23   \n",
       "1  0            0             0          2019-05-23 15:21:47  2019-05-23   \n",
       "2  0            0             0          2019-05-23 15:22:10  2019-05-23   \n",
       "3  0            0             0          2019-05-23 15:22:15  2019-05-23   \n",
       "4  0            0             0          2019-05-23 15:22:19  2019-05-23   \n",
       "\n",
       "   hour  len_hash_tag  \\\n",
       "0  15.0  4.0            \n",
       "1  15.0  2.0            \n",
       "2  15.0  1.0            \n",
       "3  15.0  2.0            \n",
       "4  15.0  2.0            \n",
       "\n",
       "                                                                                     cleaned_text  \n",
       "0  special game throne week welcomed jon snow flight north belfast london last year summer coming  \n",
       "1  wind winter finished hidden away year author confirms                                           \n",
       "2  everyone ever thing game throne aegon targaryen sister wife really utmost                       \n",
       "3  dayin                                                                                           \n",
       "4  won’t get season rewritten maybe save star war                                                  "
      ]
     },
     "execution_count": 34,
     "metadata": {},
     "output_type": "execute_result"
    }
   ],
   "source": [
    "tweet.head()"
   ]
  },
  {
   "cell_type": "code",
   "execution_count": 35,
   "metadata": {
    "ExecuteTime": {
     "end_time": "2019-12-06T16:51:00.101556Z",
     "start_time": "2019-12-06T16:50:59.517561Z"
    }
   },
   "outputs": [],
   "source": [
    "tweet['len_text']=tweet.apply(lambda row:len(row['cleaned_text']),axis=1)  #creating a column for length of the coresponding cleaned text "
   ]
  },
  {
   "cell_type": "markdown",
   "metadata": {},
   "source": [
    "## Function to find the sentiment of the tweet"
   ]
  },
  {
   "cell_type": "code",
   "execution_count": 36,
   "metadata": {
    "ExecuteTime": {
     "end_time": "2019-12-06T16:51:00.107619Z",
     "start_time": "2019-12-06T16:51:00.101556Z"
    }
   },
   "outputs": [],
   "source": [
    "def sentiment_scores(sentence): \n",
    "  \n",
    "    sid_obj = SentimentIntensityAnalyzer() \n",
    "  \n",
    "    sentiment_dict = sid_obj.polarity_scores(sentence) #finding polarity score\n",
    " \n",
    "    if sentiment_dict['compound'] >= 0.05 :     #score is greater than 0.05 then the tweet is positive\n",
    "        return \"Positive\"\n",
    "  \n",
    "    elif sentiment_dict['compound'] <= - 0.05 : #score  less than -0.05 is negative\n",
    "        return \"Negative\"\n",
    "  \n",
    "    else : \n",
    "        return \"Neutral\""
   ]
  },
  {
   "cell_type": "code",
   "execution_count": 37,
   "metadata": {
    "ExecuteTime": {
     "end_time": "2019-12-06T17:01:10.955648Z",
     "start_time": "2019-12-06T16:51:00.109612Z"
    }
   },
   "outputs": [],
   "source": [
    "tweet['sentiment']=tweet.apply(lambda row:sentiment_scores(row['text']),axis=1)"
   ]
  },
  {
   "cell_type": "code",
   "execution_count": 38,
   "metadata": {
    "ExecuteTime": {
     "end_time": "2019-12-06T17:01:10.970413Z",
     "start_time": "2019-12-06T17:01:10.955648Z"
    }
   },
   "outputs": [
    {
     "data": {
      "text/html": [
       "<div>\n",
       "<style scoped>\n",
       "    .dataframe tbody tr th:only-of-type {\n",
       "        vertical-align: middle;\n",
       "    }\n",
       "\n",
       "    .dataframe tbody tr th {\n",
       "        vertical-align: top;\n",
       "    }\n",
       "\n",
       "    .dataframe thead th {\n",
       "        text-align: right;\n",
       "    }\n",
       "</style>\n",
       "<table border=\"1\" class=\"dataframe\">\n",
       "  <thead>\n",
       "    <tr style=\"text-align: right;\">\n",
       "      <th></th>\n",
       "      <th>usernameTweet</th>\n",
       "      <th>text</th>\n",
       "      <th>nbr_retweet</th>\n",
       "      <th>nbr_favorite</th>\n",
       "      <th>nbr_reply</th>\n",
       "      <th>datetime</th>\n",
       "      <th>date</th>\n",
       "      <th>hour</th>\n",
       "      <th>len_hash_tag</th>\n",
       "      <th>cleaned_text</th>\n",
       "      <th>len_text</th>\n",
       "      <th>sentiment</th>\n",
       "    </tr>\n",
       "  </thead>\n",
       "  <tbody>\n",
       "    <tr>\n",
       "      <th>0</th>\n",
       "      <td>Ryanair</td>\n",
       "      <td>A special Game of Thrones #ThrowbackThursday  for this week: when we welcomed Jon Snow on a flight from The North (Belfast) to London last year  \\n\\nSummer is coming on  http:// ryanair.com      #GameOfThrones  #ForTheThrone  #GOT pic.twitter.com/wFGWDntgnF</td>\n",
       "      <td>5</td>\n",
       "      <td>60</td>\n",
       "      <td>2</td>\n",
       "      <td>2019-05-23 15:21:40</td>\n",
       "      <td>2019-05-23</td>\n",
       "      <td>15.0</td>\n",
       "      <td>4.0</td>\n",
       "      <td>special game throne week welcomed jon snow flight north belfast london last year summer coming</td>\n",
       "      <td>94</td>\n",
       "      <td>Positive</td>\n",
       "    </tr>\n",
       "    <tr>\n",
       "      <th>1</th>\n",
       "      <td>sachintrivedig</td>\n",
       "      <td>'Winds Of Winter' 'Not Finished,' 'Not Hidden Away For Years,' Author Confirms #windsofwinter  #GameofThrones   https://www. ibtimes.com/winds-winter-n ot-finished-not-hidden-away-years-author-confirms-2794275   …</td>\n",
       "      <td>0</td>\n",
       "      <td>0</td>\n",
       "      <td>0</td>\n",
       "      <td>2019-05-23 15:21:47</td>\n",
       "      <td>2019-05-23</td>\n",
       "      <td>15.0</td>\n",
       "      <td>2.0</td>\n",
       "      <td>wind winter finished hidden away year author confirms</td>\n",
       "      <td>53</td>\n",
       "      <td>Neutral</td>\n",
       "    </tr>\n",
       "    <tr>\n",
       "      <th>2</th>\n",
       "      <td>SherwinLLewis</td>\n",
       "      <td>Out of everyone who ever did a thing in The Game of Thrones, Aegon Targaryen and his sister wives really did the utmost #GameOfThrones</td>\n",
       "      <td>0</td>\n",
       "      <td>0</td>\n",
       "      <td>0</td>\n",
       "      <td>2019-05-23 15:22:10</td>\n",
       "      <td>2019-05-23</td>\n",
       "      <td>15.0</td>\n",
       "      <td>1.0</td>\n",
       "      <td>everyone ever thing game throne aegon targaryen sister wife really utmost</td>\n",
       "      <td>73</td>\n",
       "      <td>Neutral</td>\n",
       "    </tr>\n",
       "    <tr>\n",
       "      <th>3</th>\n",
       "      <td>temperance8</td>\n",
       "      <td>I am dayin  \\n#gameofthrones  \\n#JonSnow pic.twitter.com/ByotJV9dbp</td>\n",
       "      <td>0</td>\n",
       "      <td>0</td>\n",
       "      <td>0</td>\n",
       "      <td>2019-05-23 15:22:15</td>\n",
       "      <td>2019-05-23</td>\n",
       "      <td>15.0</td>\n",
       "      <td>2.0</td>\n",
       "      <td>dayin</td>\n",
       "      <td>5</td>\n",
       "      <td>Neutral</td>\n",
       "    </tr>\n",
       "    <tr>\n",
       "      <th>4</th>\n",
       "      <td>freefolkbot</td>\n",
       "      <td>We won’t get season 8 re-written, but maybe we can save Star Wars. #GoT  #GameofThrones   https:// redd.it/bry14g   pic.twitter.com/aOAH5v61Ei</td>\n",
       "      <td>0</td>\n",
       "      <td>0</td>\n",
       "      <td>0</td>\n",
       "      <td>2019-05-23 15:22:19</td>\n",
       "      <td>2019-05-23</td>\n",
       "      <td>15.0</td>\n",
       "      <td>2.0</td>\n",
       "      <td>won’t get season rewritten maybe save star war</td>\n",
       "      <td>46</td>\n",
       "      <td>Negative</td>\n",
       "    </tr>\n",
       "  </tbody>\n",
       "</table>\n",
       "</div>"
      ],
      "text/plain": [
       "    usernameTweet  \\\n",
       "0  Ryanair          \n",
       "1  sachintrivedig   \n",
       "2  SherwinLLewis    \n",
       "3  temperance8      \n",
       "4  freefolkbot      \n",
       "\n",
       "                                                                                                                                                                                                                                                                text  \\\n",
       "0  A special Game of Thrones #ThrowbackThursday  for this week: when we welcomed Jon Snow on a flight from The North (Belfast) to London last year  \\n\\nSummer is coming on  http:// ryanair.com      #GameOfThrones  #ForTheThrone  #GOT pic.twitter.com/wFGWDntgnF   \n",
       "1  'Winds Of Winter' 'Not Finished,' 'Not Hidden Away For Years,' Author Confirms #windsofwinter  #GameofThrones   https://www. ibtimes.com/winds-winter-n ot-finished-not-hidden-away-years-author-confirms-2794275   …                                               \n",
       "2  Out of everyone who ever did a thing in The Game of Thrones, Aegon Targaryen and his sister wives really did the utmost #GameOfThrones                                                                                                                              \n",
       "3  I am dayin  \\n#gameofthrones  \\n#JonSnow pic.twitter.com/ByotJV9dbp                                                                                                                                                                                                 \n",
       "4  We won’t get season 8 re-written, but maybe we can save Star Wars. #GoT  #GameofThrones   https:// redd.it/bry14g   pic.twitter.com/aOAH5v61Ei                                                                                                                      \n",
       "\n",
       "   nbr_retweet  nbr_favorite  nbr_reply             datetime        date  \\\n",
       "0  5            60            2          2019-05-23 15:21:40  2019-05-23   \n",
       "1  0            0             0          2019-05-23 15:21:47  2019-05-23   \n",
       "2  0            0             0          2019-05-23 15:22:10  2019-05-23   \n",
       "3  0            0             0          2019-05-23 15:22:15  2019-05-23   \n",
       "4  0            0             0          2019-05-23 15:22:19  2019-05-23   \n",
       "\n",
       "   hour  len_hash_tag  \\\n",
       "0  15.0  4.0            \n",
       "1  15.0  2.0            \n",
       "2  15.0  1.0            \n",
       "3  15.0  2.0            \n",
       "4  15.0  2.0            \n",
       "\n",
       "                                                                                     cleaned_text  \\\n",
       "0  special game throne week welcomed jon snow flight north belfast london last year summer coming   \n",
       "1  wind winter finished hidden away year author confirms                                            \n",
       "2  everyone ever thing game throne aegon targaryen sister wife really utmost                        \n",
       "3  dayin                                                                                            \n",
       "4  won’t get season rewritten maybe save star war                                                   \n",
       "\n",
       "   len_text sentiment  \n",
       "0  94        Positive  \n",
       "1  53        Neutral   \n",
       "2  73        Neutral   \n",
       "3  5         Neutral   \n",
       "4  46        Negative  "
      ]
     },
     "execution_count": 38,
     "metadata": {},
     "output_type": "execute_result"
    }
   ],
   "source": [
    "tweet.head()"
   ]
  },
  {
   "cell_type": "code",
   "execution_count": 39,
   "metadata": {
    "ExecuteTime": {
     "end_time": "2019-12-06T17:01:11.314490Z",
     "start_time": "2019-12-06T17:01:10.971409Z"
    }
   },
   "outputs": [
    {
     "data": {
      "text/plain": [
       "<matplotlib.axes._subplots.AxesSubplot at 0x22ba928f188>"
      ]
     },
     "execution_count": 39,
     "metadata": {},
     "output_type": "execute_result"
    },
    {
     "data": {
      "image/png": "[encoded data removed]",
      "text/plain": [
       "<Figure size 432x288 with 1 Axes>"
      ]
     },
     "metadata": {
      "needs_background": "light"
     },
     "output_type": "display_data"
    }
   ],
   "source": [
    "sns.kdeplot(tweet.loc[tweet['sentiment']=='Positive','len_hash_tag'],shade=True,label='positive') #distribution of positive tweets\n",
    "sns.kdeplot(tweet.loc[tweet['sentiment']=='Negative','len_hash_tag'],shade=True,label='negative') #distribution of negative tweets\n"
   ]
  },
  {
   "cell_type": "code",
   "execution_count": 40,
   "metadata": {
    "ExecuteTime": {
     "end_time": "2019-12-06T17:01:11.325462Z",
     "start_time": "2019-12-06T17:01:11.315489Z"
    }
   },
   "outputs": [
    {
     "data": {
      "text/plain": [
       "count    39239.000000\n",
       "mean     61.694921   \n",
       "std      42.232733   \n",
       "min      0.000000    \n",
       "25%      29.000000   \n",
       "50%      52.000000   \n",
       "75%      86.000000   \n",
       "max      233.000000  \n",
       "Name: len_text, dtype: float64"
      ]
     },
     "execution_count": 40,
     "metadata": {},
     "output_type": "execute_result"
    }
   ],
   "source": [
    "tweet['len_text'].describe() #spread of the tweets length"
   ]
  },
  {
   "cell_type": "code",
   "execution_count": 41,
   "metadata": {
    "ExecuteTime": {
     "end_time": "2019-12-06T17:01:11.681157Z",
     "start_time": "2019-12-06T17:01:11.326459Z"
    }
   },
   "outputs": [
    {
     "data": {
      "text/plain": [
       "<matplotlib.axes._subplots.AxesSubplot at 0x22ba928f308>"
      ]
     },
     "execution_count": 41,
     "metadata": {},
     "output_type": "execute_result"
    },
    {
     "data": {
      "image/png": "[encoded data removed]",
      "text/plain": [
       "<Figure size 432x288 with 1 Axes>"
      ]
     },
     "metadata": {
      "needs_background": "light"
     },
     "output_type": "display_data"
    }
   ],
   "source": [
    "sns.kdeplot(tweet['len_hash_tag'],shade=True) #distribution of hash tag length"
   ]
  },
  {
   "cell_type": "code",
   "execution_count": 42,
   "metadata": {
    "ExecuteTime": {
     "end_time": "2019-12-06T17:01:11.858647Z",
     "start_time": "2019-12-06T17:01:11.682120Z"
    }
   },
   "outputs": [
    {
     "data": {
      "text/plain": [
       "<matplotlib.axes._subplots.AxesSubplot at 0x22ba3801bc8>"
      ]
     },
     "execution_count": 42,
     "metadata": {},
     "output_type": "execute_result"
    },
    {
     "data": {
      "image/png": "[encoded data removed]",
      "text/plain": [
       "<Figure size 432x288 with 1 Axes>"
      ]
     },
     "metadata": {
      "needs_background": "light"
     },
     "output_type": "display_data"
    }
   ],
   "source": [
    "sns.kdeplot(tweet['len_text'],shade=True) #distribution of tweets length"
   ]
  },
  {
   "cell_type": "code",
   "execution_count": 43,
   "metadata": {
    "ExecuteTime": {
     "end_time": "2019-12-06T17:01:12.068086Z",
     "start_time": "2019-12-06T17:01:11.860642Z"
    }
   },
   "outputs": [
    {
     "data": {
      "text/plain": [
       "<matplotlib.axes._subplots.AxesSubplot at 0x22ba8d505c8>"
      ]
     },
     "execution_count": 43,
     "metadata": {},
     "output_type": "execute_result"
    },
    {
     "data": {
      "image/png": "[encoded data removed]",
      "text/plain": [
       "<Figure size 432x288 with 1 Axes>"
      ]
     },
     "metadata": {
      "needs_background": "light"
     },
     "output_type": "display_data"
    }
   ],
   "source": [
    "sns.kdeplot(tweet['nbr_retweet'],shade=True) #distribution of retweet nos"
   ]
  },
  {
   "cell_type": "code",
   "execution_count": 44,
   "metadata": {
    "ExecuteTime": {
     "end_time": "2019-12-06T17:01:12.258962Z",
     "start_time": "2019-12-06T17:01:12.069086Z"
    },
    "scrolled": true
   },
   "outputs": [
    {
     "data": {
      "text/plain": [
       "<matplotlib.axes._subplots.AxesSubplot at 0x22ba8d10248>"
      ]
     },
     "execution_count": 44,
     "metadata": {},
     "output_type": "execute_result"
    },
    {
     "data": {
      "image/png": "[encoded data removed]",
      "text/plain": [
       "<Figure size 432x288 with 1 Axes>"
      ]
     },
     "metadata": {
      "needs_background": "light"
     },
     "output_type": "display_data"
    }
   ],
   "source": [
    "sns.kdeplot(tweet['nbr_favorite'],shade=True)  #Distribution of favorite nos"
   ]
  },
  {
   "cell_type": "code",
   "execution_count": 45,
   "metadata": {
    "ExecuteTime": {
     "end_time": "2019-12-06T17:01:12.281900Z",
     "start_time": "2019-12-06T17:01:12.259959Z"
    }
   },
   "outputs": [],
   "source": [
    "sample=tweet.sort_values('hour',axis=0, ascending=True, inplace=False) \n",
    "\n",
    "#sorting the dateframe in acsending order with respect to hour "
   ]
  },
  {
   "cell_type": "code",
   "execution_count": 46,
   "metadata": {
    "ExecuteTime": {
     "end_time": "2019-12-06T17:01:12.343737Z",
     "start_time": "2019-12-06T17:01:12.282896Z"
    }
   },
   "outputs": [
    {
     "data": {
      "text/plain": [
       "7.0     2221\n",
       "21.0    2110\n",
       "1.0     2057\n",
       "0.0     2055\n",
       "22.0    2050\n",
       "8.0     2039\n",
       "23.0    2038\n",
       "2.0     2004\n",
       "6.0     1997\n",
       "20.0    1992\n",
       "3.0     1777\n",
       "19.0    1776\n",
       "18.0    1746\n",
       "4.0     1630\n",
       "17.0    1514\n",
       "5.0     1477\n",
       "9.0     1358\n",
       "16.0    1273\n",
       "10.0    1198\n",
       "15.0    1143\n",
       "11.0    982 \n",
       "12.0    947 \n",
       "13.0    932 \n",
       "14.0    923 \n",
       "Name: hour, dtype: int64"
      ]
     },
     "execution_count": 46,
     "metadata": {},
     "output_type": "execute_result"
    }
   ],
   "source": [
    "sample['hour'].value_counts()"
   ]
  },
  {
   "cell_type": "code",
   "execution_count": 47,
   "metadata": {
    "ExecuteTime": {
     "end_time": "2019-12-06T17:01:12.543371Z",
     "start_time": "2019-12-06T17:01:12.345729Z"
    },
    "scrolled": true
   },
   "outputs": [
    {
     "data": {
      "image/png": "[encoded data removed]",
      "text/plain": [
       "<Figure size 432x288 with 1 Axes>"
      ]
     },
     "metadata": {
      "needs_background": "light"
     },
     "output_type": "display_data"
    }
   ],
   "source": [
    "plt.hist(sample['hour']) #time in which tweets are tweeted\n",
    "plt.show()\n",
    "\n",
    "#we can se that more people start tweeting after 5'oclk and the trend continues till 2 in the morning\n",
    "#By afternoon we can see only less people are actively tweeting"
   ]
  },
  {
   "cell_type": "code",
   "execution_count": 48,
   "metadata": {
    "ExecuteTime": {
     "end_time": "2019-12-06T17:01:13.002309Z",
     "start_time": "2019-12-06T17:01:12.545366Z"
    }
   },
   "outputs": [
    {
     "data": {
      "image/png": "[encoded data removed]",
      "text/plain": [
       "<Figure size 1080x576 with 1 Axes>"
      ]
     },
     "metadata": {},
     "output_type": "display_data"
    }
   ],
   "source": [
    "sns.set(style='darkgrid')\n",
    "rcParams['figure.figsize'] = 15,8\n",
    "ax=sns.countplot(x='hour',data=sample) #normally people are tweeting after 3 o'clk in the evening \n",
    "#highest number of tweets are tweeted by morning 7 o'clk"
   ]
  },
  {
   "cell_type": "code",
   "execution_count": 49,
   "metadata": {
    "ExecuteTime": {
     "end_time": "2019-12-06T17:01:15.576420Z",
     "start_time": "2019-12-06T17:01:13.003306Z"
    }
   },
   "outputs": [
    {
     "data": {
      "text/plain": [
       "<matplotlib.axes._subplots.AxesSubplot at 0x22ba9afa488>"
      ]
     },
     "execution_count": 49,
     "metadata": {},
     "output_type": "execute_result"
    },
    {
     "data": {
      "image/png": "[encoded data removed]",
      "text/plain": [
       "<Figure size 1080x576 with 1 Axes>"
      ]
     },
     "metadata": {},
     "output_type": "display_data"
    }
   ],
   "source": [
    "sns.barplot(y='date',x='hour',hue='sentiment',data=tweet) #as the days moves on people started to tweet on midnight"
   ]
  },
  {
   "cell_type": "code",
   "execution_count": 50,
   "metadata": {
    "ExecuteTime": {
     "end_time": "2019-12-06T17:01:15.601022Z",
     "start_time": "2019-12-06T17:01:15.580107Z"
    }
   },
   "outputs": [],
   "source": [
    "x1 = tweet.loc[tweet.sentiment=='Positive', 'date']      #dates in which positive tweets are tweeted\n",
    "x2 = tweet.loc[tweet.sentiment=='Negative', 'date']      #dates in which negative tweets are tweeted\n"
   ]
  },
  {
   "cell_type": "code",
   "execution_count": 51,
   "metadata": {
    "ExecuteTime": {
     "end_time": "2019-12-06T17:01:15.992969Z",
     "start_time": "2019-12-06T17:01:15.604011Z"
    }
   },
   "outputs": [
    {
     "data": {
      "text/plain": [
       "(array([ 810., 1701., 1130.,    0., 1062., 2240.,    0., 1131., 1109.,\n",
       "         209.]),\n",
       " array([0. , 0.7, 1.4, 2.1, 2.8, 3.5, 4.2, 4.9, 5.6, 6.3, 7. ]),\n",
       " <a list of 10 Patch objects>)"
      ]
     },
     "execution_count": 51,
     "metadata": {},
     "output_type": "execute_result"
    },
    {
     "data": {
      "image/png": "[encoded data removed]",
      "text/plain": [
       "<Figure size 720x288 with 1 Axes>"
      ]
     },
     "metadata": {},
     "output_type": "display_data"
    }
   ],
   "source": [
    "plt.figure(figsize=(10,4))\n",
    "plt.hist(x1, color='g', label='Positive')\n",
    "plt.hist(x2, color='b', label='Negative')\n",
    "\n",
    "#it has more positive reviews in any days than negative tweets\n"
   ]
  },
  {
   "cell_type": "markdown",
   "metadata": {},
   "source": [
    "## Function to extract all the hashtags from the tweet"
   ]
  },
  {
   "cell_type": "code",
   "execution_count": 52,
   "metadata": {
    "ExecuteTime": {
     "end_time": "2019-12-06T17:01:15.998954Z",
     "start_time": "2019-12-06T17:01:15.993966Z"
    }
   },
   "outputs": [],
   "source": [
    "tags=[]\n",
    "def hash_tag(string):\n",
    "    hash_tags=re.findall('#[a-z]+|# [a-z]+',string.lower()) #regex to extract all hashtags\n",
    "    tags.append(hash_tags)\n",
    "    return(' '.join(hash_tags))"
   ]
  },
  {
   "cell_type": "code",
   "execution_count": 53,
   "metadata": {
    "ExecuteTime": {
     "end_time": "2019-12-06T17:01:16.735246Z",
     "start_time": "2019-12-06T17:01:16.000950Z"
    }
   },
   "outputs": [],
   "source": [
    "tweet['hash_tag']=tweet.apply(lambda row:hash_tag(row['text']),axis=1)"
   ]
  },
  {
   "cell_type": "markdown",
   "metadata": {},
   "source": [
    "## converting all the hashtags into a list , so it will be easy to see"
   ]
  },
  {
   "cell_type": "code",
   "execution_count": 54,
   "metadata": {
    "ExecuteTime": {
     "end_time": "2019-12-06T17:01:16.811441Z",
     "start_time": "2019-12-06T17:01:16.735246Z"
    }
   },
   "outputs": [],
   "source": [
    "List_tags=[]\n",
    "temp=' '.join(str(' '.join(str(item.replace(' ','')) for item in tokens)) for tokens in tags) \n",
    "#takes all the hashtags from dataframe clear all the spaces and the convert them to a string\n",
    "List_tags=temp.split(' ')\n"
   ]
  },
  {
   "cell_type": "code",
   "execution_count": 55,
   "metadata": {
    "ExecuteTime": {
     "end_time": "2019-12-06T17:01:16.830905Z",
     "start_time": "2019-12-06T17:01:16.812359Z"
    }
   },
   "outputs": [],
   "source": [
    "def commontag(words):\n",
    "    freq_counter=Counter(words)                      # counts the hashtags\n",
    "    top_words=freq_counter.most_common(15)           # top 15 hashtags\n",
    "    data=pd.DataFrame()\n",
    "    data['words']=[val[0] for val in top_words]      # returns the hastag word\n",
    "    data['freq']=[val[1] for val in top_words]       # returns the frequency of the hashtag in the tweets\n",
    "    sns.barplot(y='words',x='freq',data=data)"
   ]
  },
  {
   "cell_type": "code",
   "execution_count": 56,
   "metadata": {
    "ExecuteTime": {
     "end_time": "2019-12-06T17:01:17.765215Z",
     "start_time": "2019-12-06T17:01:16.831905Z"
    }
   },
   "outputs": [
    {
     "data": {
      "image/png": "[encoded data removed]",
      "text/plain": [
       "<Figure size 1080x576 with 1 Axes>"
      ]
     },
     "metadata": {},
     "output_type": "display_data"
    }
   ],
   "source": [
    "commontag(List_tags)              #calling the function"
   ]
  },
  {
   "cell_type": "markdown",
   "metadata": {},
   "source": [
    "## Generating wordcloud to visualize the Cleaned tweets"
   ]
  },
  {
   "cell_type": "code",
   "execution_count": 57,
   "metadata": {
    "ExecuteTime": {
     "end_time": "2019-12-06T17:01:38.771030Z",
     "start_time": "2019-12-06T17:01:17.768207Z"
    }
   },
   "outputs": [
    {
     "data": {
      "image/png": "[encoded data removed]",
      "text/plain": [
       "<Figure size 1080x576 with 1 Axes>"
      ]
     },
     "metadata": {},
     "output_type": "display_data"
    }
   ],
   "source": [
    "from wordcloud import WordCloud\n",
    "wordcloud = WordCloud(height=2000, width=2000, background_color='white')\n",
    "wordcloud = wordcloud.generate(' '.join(tweet['cleaned_text'].tolist())) #converts the dataframe into a list and generates the wordcloud\n",
    "plt.imshow(wordcloud)\n",
    "plt.title(\"Most common words\")\n",
    "plt.axis('off')\n",
    "plt.show()"
   ]
  },
  {
   "cell_type": "code",
   "execution_count": 58,
   "metadata": {
    "ExecuteTime": {
     "end_time": "2019-12-06T17:01:38.796952Z",
     "start_time": "2019-12-06T17:01:38.771030Z"
    }
   },
   "outputs": [],
   "source": [
    "positive_reviews=tweet.loc[tweet['sentiment']=='Positive','cleaned_text'].tolist()#list of positive reviews\n",
    "negative_reviews=tweet.loc[tweet['sentiment']=='Negative','cleaned_text'].tolist()#list of negative reviews"
   ]
  },
  {
   "cell_type": "code",
   "execution_count": 59,
   "metadata": {
    "ExecuteTime": {
     "end_time": "2019-12-06T17:01:38.906655Z",
     "start_time": "2019-12-06T17:01:38.799942Z"
    }
   },
   "outputs": [],
   "source": [
    "def commonwords(review,top=30):\n",
    "    reviews=\" \".join(review)\n",
    "    tokenised_reviews=reviews.split(\" \")\n",
    "    \n",
    "    \n",
    "    freq_counter=Counter(tokenised_reviews) #counts the occurance\n",
    "    return freq_counter.most_common(top)"
   ]
  },
  {
   "cell_type": "code",
   "execution_count": 60,
   "metadata": {
    "ExecuteTime": {
     "end_time": "2019-12-06T17:01:39.078331Z",
     "start_time": "2019-12-06T17:01:38.910646Z"
    }
   },
   "outputs": [],
   "source": [
    "top_30_positive_review_words=commonwords(positive_reviews,30) #top 30 positive reviews"
   ]
  },
  {
   "cell_type": "code",
   "execution_count": 61,
   "metadata": {
    "ExecuteTime": {
     "end_time": "2019-12-06T17:01:39.156715Z",
     "start_time": "2019-12-06T17:01:39.081322Z"
    }
   },
   "outputs": [],
   "source": [
    "top_30_negative_review_words=commonwords(negative_reviews,30) #top 30 negative reviews"
   ]
  },
  {
   "cell_type": "code",
   "execution_count": 62,
   "metadata": {
    "ExecuteTime": {
     "end_time": "2019-12-06T17:01:39.224299Z",
     "start_time": "2019-12-06T17:01:39.159706Z"
    }
   },
   "outputs": [],
   "source": [
    "def plotCommonWords(reviews,top=50,title=\"Positive Review\",color=\"blue\",axis=None):\n",
    "    top_words=commonwords(reviews,top=top)\n",
    "    data=pd.DataFrame()\n",
    "    data['words']=[val[0] for val in top_words]\n",
    "    data['freq']=[val[1] for val in top_words]\n",
    "    if axis!=None:\n",
    "        sns.barplot(y='words',x='freq',data=data,color=color,ax=axis).set_title(title+\" top \"+str(top))\n",
    "    else:\n",
    "        sns.barplot(y='words',x='freq',data=data,color=color).set_title(title+\" top \"+str(top))"
   ]
  },
  {
   "cell_type": "code",
   "execution_count": 63,
   "metadata": {
    "ExecuteTime": {
     "end_time": "2019-12-06T17:01:39.993328Z",
     "start_time": "2019-12-06T17:01:39.226092Z"
    }
   },
   "outputs": [
    {
     "data": {
      "image/png": "[encoded data removed]",
      "text/plain": [
       "<Figure size 720x720 with 2 Axes>"
      ]
     },
     "metadata": {},
     "output_type": "display_data"
    }
   ],
   "source": [
    "rcParams['figure.figsize'] = 10,10\n",
    "fig,ax=plt.subplots(1,2)\n",
    "fig.subplots_adjust(wspace=1) #Adjusts the space between the two plots\n",
    "plotCommonWords(positive_reviews,20,\"Positive Review \",axis=ax[0])\n",
    "\n",
    "plotCommonWords(negative_reviews,20,\"Negative Review \",color=\"red\",axis=ax[1])"
   ]
  },
  {
   "cell_type": "code",
   "execution_count": 64,
   "metadata": {
    "ExecuteTime": {
     "end_time": "2019-12-06T17:01:39.999310Z",
     "start_time": "2019-12-06T17:01:39.994325Z"
    }
   },
   "outputs": [],
   "source": [
    "def generateNGram(text,n=2):  #bigram\n",
    "    tokens=text.split(\" \")\n",
    "    ngrams = zip(*[tokens[i:] for i in range(n)])\n",
    "    return [\"_\".join(ngram) for ngram in ngrams] #joins two consecutive words"
   ]
  },
  {
   "cell_type": "code",
   "execution_count": 65,
   "metadata": {
    "ExecuteTime": {
     "end_time": "2019-12-06T17:01:40.249357Z",
     "start_time": "2019-12-06T17:01:40.000308Z"
    }
   },
   "outputs": [],
   "source": [
    "positive_tweets_bigrams=[\" \".join(generateNGram(review)) for review in positive_reviews] #positive  bigrams\n",
    "negative_tweets_bigrams=[\" \".join(generateNGram(review)) for review in negative_reviews] #negative bigrams"
   ]
  },
  {
   "cell_type": "code",
   "execution_count": 66,
   "metadata": {
    "ExecuteTime": {
     "end_time": "2019-12-06T17:01:41.035103Z",
     "start_time": "2019-12-06T17:01:40.251351Z"
    }
   },
   "outputs": [
    {
     "data": {
      "image/png": "[encoded data removed]",
      "text/plain": [
       "<Figure size 720x720 with 2 Axes>"
      ]
     },
     "metadata": {},
     "output_type": "display_data"
    }
   ],
   "source": [
    "rcParams['figure.figsize'] = 10,10\n",
    "fig,ax=plt.subplots(1,2)\n",
    "fig.subplots_adjust(wspace=1) #Adjusts the space between the two plots\n",
    "plotCommonWords(positive_tweets_bigrams,20,\"Positive Review Bigrams\",axis=ax[0])\n",
    "\n",
    "plotCommonWords(negative_tweets_bigrams,20,\"Negative Review Bigrams\",color=\"red\",axis=ax[1])"
   ]
  },
  {
   "cell_type": "code",
   "execution_count": 67,
   "metadata": {
    "ExecuteTime": {
     "end_time": "2019-12-06T17:01:41.041087Z",
     "start_time": "2019-12-06T17:01:41.036134Z"
    }
   },
   "outputs": [],
   "source": [
    "def generatetriGram(text,n=3): #trigrams\n",
    "    tokens=text.split(\" \")\n",
    "    ngrams = zip(*[tokens[i:] for i in range(n)])\n",
    "    return [\"_\".join(ngram) for ngram in ngrams] #joins consecutive three words"
   ]
  },
  {
   "cell_type": "code",
   "execution_count": 68,
   "metadata": {
    "ExecuteTime": {
     "end_time": "2019-12-06T17:01:41.395135Z",
     "start_time": "2019-12-06T17:01:41.049067Z"
    }
   },
   "outputs": [],
   "source": [
    "positive_tweets_trigrams=[\" \".join(generatetriGram(review)) for review in positive_reviews] #positive trigrams\n",
    "negative_tweets_trigrams=[\" \".join(generatetriGram(review)) for review in negative_reviews] #negative trigrams"
   ]
  },
  {
   "cell_type": "code",
   "execution_count": 69,
   "metadata": {
    "ExecuteTime": {
     "end_time": "2019-12-06T17:01:42.193931Z",
     "start_time": "2019-12-06T17:01:41.399128Z"
    },
    "scrolled": true
   },
   "outputs": [
    {
     "name": "stderr",
     "output_type": "stream",
     "text": [
      "C:\\Users\\VIJESH\\AppData\\Local\\Continuum\\anaconda3\\lib\\site-packages\\matplotlib\\backends\\backend_agg.py:211: RuntimeWarning: Glyph 24417 missing from current font.\n",
      "  font.set_text(s, 0.0, flags=flags)\n",
      "C:\\Users\\VIJESH\\AppData\\Local\\Continuum\\anaconda3\\lib\\site-packages\\matplotlib\\backends\\backend_agg.py:180: RuntimeWarning: Glyph 24417 missing from current font.\n",
      "  font.set_text(s, 0, flags=flags)\n"
     ]
    },
    {
     "data": {
      "image/png": "[encoded data removed]",
      "text/plain": [
       "<Figure size 720x720 with 2 Axes>"
      ]
     },
     "metadata": {},
     "output_type": "display_data"
    }
   ],
   "source": [
    "rcParams['figure.figsize'] = 10,10\n",
    "fig,ax=plt.subplots(1,2)\n",
    "fig.subplots_adjust(wspace=2) #Adjusts the space between the two plots\n",
    "plotCommonWords(positive_tweets_trigrams,20,\"Positive Review Bigrams\",axis=ax[0])\n",
    "\n",
    "plotCommonWords(negative_tweets_trigrams,20,\"Negative Review Bigrams\",color=\"red\",axis=ax[1])"
   ]
  },
  {
   "cell_type": "markdown",
   "metadata": {},
   "source": [
    "## Topic Modelling"
   ]
  },
  {
   "cell_type": "code",
   "execution_count": 70,
   "metadata": {
    "ExecuteTime": {
     "end_time": "2019-12-06T17:01:42.199914Z",
     "start_time": "2019-12-06T17:01:42.194928Z"
    }
   },
   "outputs": [],
   "source": [
    "def preprocess(row):\n",
    "    result = []\n",
    "    text=row['cleaned_text']\n",
    "    for token in gensim.utils.simple_preprocess(text): \n",
    "        if len(token) > 3:                              #only for the text whose length is greater than 3\n",
    "            #print(token)\n",
    "            result.append(token)\n",
    "    return result"
   ]
  },
  {
   "cell_type": "code",
   "execution_count": 71,
   "metadata": {
    "ExecuteTime": {
     "end_time": "2019-12-06T17:01:44.569658Z",
     "start_time": "2019-12-06T17:01:42.200912Z"
    }
   },
   "outputs": [],
   "source": [
    "pre_text=tweet.apply(lambda row:preprocess(row),axis=1)"
   ]
  },
  {
   "cell_type": "markdown",
   "metadata": {},
   "source": []
  },
  {
   "cell_type": "code",
   "execution_count": 72,
   "metadata": {
    "ExecuteTime": {
     "end_time": "2019-12-06T17:01:46.965227Z",
     "start_time": "2019-12-06T17:01:44.572622Z"
    }
   },
   "outputs": [],
   "source": [
    "dictionary = gensim.corpora.Dictionary(pre_text)\n",
    "\n",
    "dictionary.filter_extremes(no_below=50, no_above=0.5, keep_n=100000)\n",
    "# less than 50 documents (absolute number) or\n",
    "# more than 0.5 documents (fraction of total corpus size, not absolute number).\n",
    "# after the above two steps, keep only the first 100000 most frequent tokens.\n",
    "\n",
    "\n",
    "bow_corpus = [dictionary.doc2bow(doc) for doc in pre_text]\n",
    "\n",
    "bow_=[bow_corpus[i] for i in range(len(bow_corpus)) if len(bow_corpus[i])>25]   # length of the word more than 25"
   ]
  },
  {
   "cell_type": "code",
   "execution_count": 73,
   "metadata": {
    "ExecuteTime": {
     "end_time": "2019-12-06T17:01:46.979187Z",
     "start_time": "2019-12-06T17:01:46.968214Z"
    },
    "scrolled": true
   },
   "outputs": [],
   "source": [
    "for j in range(len(bow_)):\n",
    "    print('\\n document',j,'\\n')\n",
    "    for i in range(len(bow_[j])):\n",
    "        bow_1=bow_[j]\n",
    "        print(\"Word {} (\\\"{}\\\") appears {} time.\".format(bow_1[i][0],dictionary[bow_1[i][0]],bow_1[i][1])) \n",
    "        #prints the word and how much time they accured in the document"
   ]
  },
  {
   "cell_type": "code",
   "execution_count": 74,
   "metadata": {
    "ExecuteTime": {
     "end_time": "2019-12-06T17:01:48.080277Z",
     "start_time": "2019-12-06T17:01:46.983178Z"
    }
   },
   "outputs": [],
   "source": [
    "from sklearn.feature_extraction.text import CountVectorizer\n",
    "\n",
    "# the vectorizer object will be used to transform text to vector form\n",
    "vectorizer = CountVectorizer(max_df=0.9, min_df=25, token_pattern='\\w+|\\$[\\d\\.]+|\\S+')\n",
    "\n",
    "# apply transformation\n",
    "tf = vectorizer.fit_transform(tweet['cleaned_text']).toarray()\n",
    "\n",
    "# tf_feature_names tells us what word each column in the matric represents\n",
    "tf_feature_names = vectorizer.get_feature_names()"
   ]
  },
  {
   "cell_type": "code",
   "execution_count": 75,
   "metadata": {
    "ExecuteTime": {
     "end_time": "2019-12-06T17:01:48.088255Z",
     "start_time": "2019-12-06T17:01:48.082270Z"
    }
   },
   "outputs": [],
   "source": [
    "from sklearn.decomposition import LatentDirichletAllocation\n",
    "\n",
    "number_of_topics = 5\n",
    "\n",
    "model = LatentDirichletAllocation(n_components=number_of_topics, random_state=0) #model is our LDA algorithm model object"
   ]
  },
  {
   "cell_type": "code",
   "execution_count": 76,
   "metadata": {
    "ExecuteTime": {
     "end_time": "2019-12-06T17:04:13.546118Z",
     "start_time": "2019-12-06T17:01:48.092247Z"
    },
    "scrolled": true
   },
   "outputs": [
    {
     "data": {
      "text/plain": [
       "LatentDirichletAllocation(batch_size=128, doc_topic_prior=None,\n",
       "                          evaluate_every=-1, learning_decay=0.7,\n",
       "                          learning_method='batch', learning_offset=10.0,\n",
       "                          max_doc_update_iter=100, max_iter=10,\n",
       "                          mean_change_tol=0.001, n_components=5, n_jobs=None,\n",
       "                          perp_tol=0.1, random_state=0, topic_word_prior=None,\n",
       "                          total_samples=1000000.0, verbose=0)"
      ]
     },
     "execution_count": 76,
     "metadata": {},
     "output_type": "execute_result"
    }
   ],
   "source": [
    "model.fit(tf)"
   ]
  },
  {
   "cell_type": "markdown",
   "metadata": {},
   "source": [
    "## Function to Returns a dataframe, to show you the topics we created"
   ]
  },
  {
   "cell_type": "code",
   "execution_count": 77,
   "metadata": {
    "ExecuteTime": {
     "end_time": "2019-12-06T17:04:13.553099Z",
     "start_time": "2019-12-06T17:04:13.547115Z"
    }
   },
   "outputs": [],
   "source": [
    "def display_topics(model, feature_names, no_top_words):\n",
    "    topic_dict = {}\n",
    "    for topic_idx, topic in enumerate(model.components_):\n",
    "        topic_dict[\"Topic %d words\" % (topic_idx)]= ['{}'.format(feature_names[i])\n",
    "                        for i in topic.argsort()[:-no_top_words - 1:-1]]\n",
    "        topic_dict[\"Topic %d weights\" % (topic_idx)]= ['{:.1f}'.format(topic[i])\n",
    "                        for i in topic.argsort()[:-no_top_words - 1:-1]]\n",
    "    return pd.DataFrame(topic_dict)                       #each topic is a list of words/tokens and weights\n",
    "\n",
    "                    "
   ]
  },
  {
   "cell_type": "code",
   "execution_count": 78,
   "metadata": {
    "ExecuteTime": {
     "end_time": "2019-12-06T17:04:13.670895Z",
     "start_time": "2019-12-06T17:04:13.554097Z"
    },
    "scrolled": true
   },
   "outputs": [
    {
     "data": {
      "text/html": [
       "<div>\n",
       "<style scoped>\n",
       "    .dataframe tbody tr th:only-of-type {\n",
       "        vertical-align: middle;\n",
       "    }\n",
       "\n",
       "    .dataframe tbody tr th {\n",
       "        vertical-align: top;\n",
       "    }\n",
       "\n",
       "    .dataframe thead th {\n",
       "        text-align: right;\n",
       "    }\n",
       "</style>\n",
       "<table border=\"1\" class=\"dataframe\">\n",
       "  <thead>\n",
       "    <tr style=\"text-align: right;\">\n",
       "      <th></th>\n",
       "      <th>Topic 0 words</th>\n",
       "      <th>Topic 0 weights</th>\n",
       "      <th>Topic 1 words</th>\n",
       "      <th>Topic 1 weights</th>\n",
       "      <th>Topic 2 words</th>\n",
       "      <th>Topic 2 weights</th>\n",
       "      <th>Topic 3 words</th>\n",
       "      <th>Topic 3 weights</th>\n",
       "      <th>Topic 4 words</th>\n",
       "      <th>Topic 4 weights</th>\n",
       "    </tr>\n",
       "  </thead>\n",
       "  <tbody>\n",
       "    <tr>\n",
       "      <th>0</th>\n",
       "      <td>scene</td>\n",
       "      <td>565.4</td>\n",
       "      <td>throne</td>\n",
       "      <td>2614.7</td>\n",
       "      <td>king</td>\n",
       "      <td>1860.6</td>\n",
       "      <td>show</td>\n",
       "      <td>2118.9</td>\n",
       "      <td>’s</td>\n",
       "      <td>2391.2</td>\n",
       "    </tr>\n",
       "    <tr>\n",
       "      <th>1</th>\n",
       "      <td>emilia</td>\n",
       "      <td>521.2</td>\n",
       "      <td>episode</td>\n",
       "      <td>2612.0</td>\n",
       "      <td>throne</td>\n",
       "      <td>1221.8</td>\n",
       "      <td>season</td>\n",
       "      <td>1936.4</td>\n",
       "      <td>’t</td>\n",
       "      <td>1541.3</td>\n",
       "    </tr>\n",
       "    <tr>\n",
       "      <th>2</th>\n",
       "      <td>documentary</td>\n",
       "      <td>506.5</td>\n",
       "      <td>season</td>\n",
       "      <td>2510.5</td>\n",
       "      <td>game</td>\n",
       "      <td>1215.9</td>\n",
       "      <td>ending</td>\n",
       "      <td>1204.0</td>\n",
       "      <td>jon</td>\n",
       "      <td>956.0</td>\n",
       "    </tr>\n",
       "    <tr>\n",
       "      <th>3</th>\n",
       "      <td>tonight</td>\n",
       "      <td>470.2</td>\n",
       "      <td>game</td>\n",
       "      <td>2463.1</td>\n",
       "      <td>night</td>\n",
       "      <td>961.3</td>\n",
       "      <td>people</td>\n",
       "      <td>1063.9</td>\n",
       "      <td>like</td>\n",
       "      <td>845.1</td>\n",
       "    </tr>\n",
       "    <tr>\n",
       "      <th>4</th>\n",
       "      <td>death</td>\n",
       "      <td>463.8</td>\n",
       "      <td>last</td>\n",
       "      <td>1226.0</td>\n",
       "      <td>north</td>\n",
       "      <td>694.2</td>\n",
       "      <td>watching</td>\n",
       "      <td>1062.7</td>\n",
       "      <td>character</td>\n",
       "      <td>824.7</td>\n",
       "    </tr>\n",
       "    <tr>\n",
       "      <th>5</th>\n",
       "      <td>’</td>\n",
       "      <td>416.9</td>\n",
       "      <td>watch</td>\n",
       "      <td>1197.0</td>\n",
       "      <td>queen</td>\n",
       "      <td>666.2</td>\n",
       "      <td>like</td>\n",
       "      <td>1040.0</td>\n",
       "      <td>one</td>\n",
       "      <td>704.6</td>\n",
       "    </tr>\n",
       "    <tr>\n",
       "      <th>6</th>\n",
       "      <td>finale</td>\n",
       "      <td>414.6</td>\n",
       "      <td>final</td>\n",
       "      <td>1091.7</td>\n",
       "      <td>dragon</td>\n",
       "      <td>612.2</td>\n",
       "      <td>much</td>\n",
       "      <td>987.5</td>\n",
       "      <td>know</td>\n",
       "      <td>694.0</td>\n",
       "    </tr>\n",
       "    <tr>\n",
       "      <th>7</th>\n",
       "      <td>last</td>\n",
       "      <td>377.3</td>\n",
       "      <td>finale</td>\n",
       "      <td>971.4</td>\n",
       "      <td>sword</td>\n",
       "      <td>600.2</td>\n",
       "      <td>watch</td>\n",
       "      <td>975.9</td>\n",
       "      <td>dany</td>\n",
       "      <td>624.0</td>\n",
       "    </tr>\n",
       "    <tr>\n",
       "      <th>8</th>\n",
       "      <td>star</td>\n",
       "      <td>365.0</td>\n",
       "      <td>new</td>\n",
       "      <td>733.1</td>\n",
       "      <td>bran</td>\n",
       "      <td>600.1</td>\n",
       "      <td>got</td>\n",
       "      <td>936.1</td>\n",
       "      <td>it</td>\n",
       "      <td>620.4</td>\n",
       "    </tr>\n",
       "    <tr>\n",
       "      <th>9</th>\n",
       "      <td>gameofthrones</td>\n",
       "      <td>361.8</td>\n",
       "      <td>week</td>\n",
       "      <td>638.5</td>\n",
       "      <td>snow</td>\n",
       "      <td>575.0</td>\n",
       "      <td>still</td>\n",
       "      <td>870.7</td>\n",
       "      <td>i</td>\n",
       "      <td>540.0</td>\n",
       "    </tr>\n",
       "  </tbody>\n",
       "</table>\n",
       "</div>"
      ],
      "text/plain": [
       "   Topic 0 words Topic 0 weights Topic 1 words Topic 1 weights Topic 2 words  \\\n",
       "0  scene          565.4           throne        2614.7          king           \n",
       "1  emilia         521.2           episode       2612.0          throne         \n",
       "2  documentary    506.5           season        2510.5          game           \n",
       "3  tonight        470.2           game          2463.1          night          \n",
       "4  death          463.8           last          1226.0          north          \n",
       "5  ’              416.9           watch         1197.0          queen          \n",
       "6  finale         414.6           final         1091.7          dragon         \n",
       "7  last           377.3           finale        971.4           sword          \n",
       "8  star           365.0           new           733.1           bran           \n",
       "9  gameofthrones  361.8           week          638.5           snow           \n",
       "\n",
       "  Topic 2 weights Topic 3 words Topic 3 weights Topic 4 words Topic 4 weights  \n",
       "0  1860.6          show          2118.9          ’s            2391.2          \n",
       "1  1221.8          season        1936.4          ’t            1541.3          \n",
       "2  1215.9          ending        1204.0          jon           956.0           \n",
       "3  961.3           people        1063.9          like          845.1           \n",
       "4  694.2           watching      1062.7          character     824.7           \n",
       "5  666.2           like          1040.0          one           704.6           \n",
       "6  612.2           much          987.5           know          694.0           \n",
       "7  600.2           watch         975.9           dany          624.0           \n",
       "8  600.1           got           936.1           it            620.4           \n",
       "9  575.0           still         870.7           i             540.0           "
      ]
     },
     "execution_count": 78,
     "metadata": {},
     "output_type": "execute_result"
    }
   ],
   "source": [
    "no_top_words = 10\n",
    "display_topics(model, tf_feature_names, no_top_words)"
   ]
  },
  {
   "cell_type": "markdown",
   "metadata": {
    "ExecuteTime": {
     "end_time": "2019-12-05T16:10:45.148103Z",
     "start_time": "2019-12-05T16:10:45.139154Z"
    }
   },
   "source": [
    "### top words are throne,king, show  as we already know that the tweets are about game of thrones it does not give any insights\n",
    "### we can add these words to stopwords and we can try to find meaningful insights"
   ]
  },
  {
   "cell_type": "markdown",
   "metadata": {},
   "source": [
    "## K-means Clustering"
   ]
  },
  {
   "cell_type": "code",
   "execution_count": 79,
   "metadata": {
    "ExecuteTime": {
     "end_time": "2019-12-06T17:04:22.320637Z",
     "start_time": "2019-12-06T17:04:13.673889Z"
    }
   },
   "outputs": [
    {
     "name": "stdout",
     "output_type": "stream",
     "text": [
      "Top terms per cluster:\n",
      "\n",
      "Cluster 0: \n",
      "\n",
      " season\n",
      " final\n",
      " episode\n",
      " watch\n",
      " watching\n",
      " documentary\n",
      " got\n",
      " finale\n",
      " better\n",
      " like\n",
      "\n",
      "\n",
      "Cluster 1: \n",
      "\n",
      " game\n",
      " throne\n",
      " laugh\n",
      " season\n",
      " iron\n",
      " watch\n",
      " episode\n",
      " finale\n",
      " fan\n",
      " ending\n",
      "\n",
      "\n",
      "Cluster 2: \n",
      "\n",
      " watch\n",
      " king\n",
      " like\n",
      " episode\n",
      " finale\n",
      " got\n",
      " ending\n",
      " watching\n",
      " jon\n",
      " love\n",
      "\n",
      "\n",
      "\n",
      "\n"
     ]
    }
   ],
   "source": [
    "documents=tweet['cleaned_text']\n",
    "vectorizer = TfidfVectorizer(stop_words='english')\n",
    "X = vectorizer.fit_transform(documents)\n",
    "\n",
    "true_k = 3 #no of clusters\n",
    "model = KMeans(n_clusters=true_k, init='k-means++', max_iter=100, n_init=1)\n",
    "model.fit(X)\n",
    "\n",
    "print(\"Top terms per cluster:\\n\")\n",
    "order_centroids = model.cluster_centers_.argsort()[:, ::-1]\n",
    "terms = vectorizer.get_feature_names()\n",
    "for i in range(true_k):\n",
    "    print(\"Cluster %d:\" % i,'\\n'),\n",
    "    for ind in order_centroids[i, :10]:\n",
    "        print(' %s' % terms[ind]),\n",
    "    print('\\n')\n",
    "\n",
    "print(\"\\n\")\n",
    "\n"
   ]
  }
 ],
 "metadata": {
  "kernelspec": {
   "display_name": "Python 3",
   "language": "python",
   "name": "python3"
  },
  "language_info": {
   "codemirror_mode": {
    "name": "ipython",
    "version": 3
   },
   "file_extension": ".py",
   "mimetype": "text/x-python",
   "name": "python",
   "nbconvert_exporter": "python",
   "pygments_lexer": "ipython3",
   "version": "3.7.5"
  },
  "varInspector": {
   "cols": {
    "lenName": 16,
    "lenType": 16,
    "lenVar": 40
   },
   "kernels_config": {
    "python": {
     "delete_cmd_postfix": "",
     "delete_cmd_prefix": "del ",
     "library": "var_list.py",
     "varRefreshCmd": "print(var_dic_list())"
    },
    "r": {
     "delete_cmd_postfix": ") ",
     "delete_cmd_prefix": "rm(",
     "library": "var_list.r",
     "varRefreshCmd": "cat(var_dic_list()) "
    }
   },
   "types_to_exclude": [
    "module",
    "function",
    "builtin_function_or_method",
    "instance",
    "_Feature"
   ],
   "window_display": false
  }
 },
 "nbformat": 4,
 "nbformat_minor": 2
}
